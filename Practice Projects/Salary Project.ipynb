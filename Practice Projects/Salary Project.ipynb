{
 "cells": [
  {
   "cell_type": "code",
   "execution_count": 1,
   "id": "ef87a113",
   "metadata": {},
   "outputs": [],
   "source": [
    "import numpy as np \n",
    "import pandas as pd\n",
    "import matplotlib.pyplot as plt\n",
    "import seaborn as sns\n",
    "import warnings\n",
    "warnings.filterwarnings('ignore')"
   ]
  },
  {
   "cell_type": "code",
   "execution_count": 2,
   "id": "3660a394",
   "metadata": {},
   "outputs": [
    {
     "data": {
      "text/plain": [
       "pandas.core.frame.DataFrame"
      ]
     },
     "execution_count": 2,
     "metadata": {},
     "output_type": "execute_result"
    }
   ],
   "source": [
    "df=pd.read_csv('https://raw.githubusercontent.com/dsrscientist/dataset3/main/Salaries.csv')\n",
    "type(df)"
   ]
  },
  {
   "cell_type": "code",
   "execution_count": 3,
   "id": "5d03a93b",
   "metadata": {},
   "outputs": [
    {
     "data": {
      "text/html": [
       "<div>\n",
       "<style scoped>\n",
       "    .dataframe tbody tr th:only-of-type {\n",
       "        vertical-align: middle;\n",
       "    }\n",
       "\n",
       "    .dataframe tbody tr th {\n",
       "        vertical-align: top;\n",
       "    }\n",
       "\n",
       "    .dataframe thead th {\n",
       "        text-align: right;\n",
       "    }\n",
       "</style>\n",
       "<table border=\"1\" class=\"dataframe\">\n",
       "  <thead>\n",
       "    <tr style=\"text-align: right;\">\n",
       "      <th></th>\n",
       "      <th>rank</th>\n",
       "      <th>discipline</th>\n",
       "      <th>yrs.since.phd</th>\n",
       "      <th>yrs.service</th>\n",
       "      <th>sex</th>\n",
       "      <th>salary</th>\n",
       "    </tr>\n",
       "  </thead>\n",
       "  <tbody>\n",
       "    <tr>\n",
       "      <th>0</th>\n",
       "      <td>Prof</td>\n",
       "      <td>B</td>\n",
       "      <td>19</td>\n",
       "      <td>18</td>\n",
       "      <td>Male</td>\n",
       "      <td>139750</td>\n",
       "    </tr>\n",
       "    <tr>\n",
       "      <th>1</th>\n",
       "      <td>Prof</td>\n",
       "      <td>B</td>\n",
       "      <td>20</td>\n",
       "      <td>16</td>\n",
       "      <td>Male</td>\n",
       "      <td>173200</td>\n",
       "    </tr>\n",
       "    <tr>\n",
       "      <th>2</th>\n",
       "      <td>AsstProf</td>\n",
       "      <td>B</td>\n",
       "      <td>4</td>\n",
       "      <td>3</td>\n",
       "      <td>Male</td>\n",
       "      <td>79750</td>\n",
       "    </tr>\n",
       "    <tr>\n",
       "      <th>3</th>\n",
       "      <td>Prof</td>\n",
       "      <td>B</td>\n",
       "      <td>45</td>\n",
       "      <td>39</td>\n",
       "      <td>Male</td>\n",
       "      <td>115000</td>\n",
       "    </tr>\n",
       "    <tr>\n",
       "      <th>4</th>\n",
       "      <td>Prof</td>\n",
       "      <td>B</td>\n",
       "      <td>40</td>\n",
       "      <td>41</td>\n",
       "      <td>Male</td>\n",
       "      <td>141500</td>\n",
       "    </tr>\n",
       "    <tr>\n",
       "      <th>...</th>\n",
       "      <td>...</td>\n",
       "      <td>...</td>\n",
       "      <td>...</td>\n",
       "      <td>...</td>\n",
       "      <td>...</td>\n",
       "      <td>...</td>\n",
       "    </tr>\n",
       "    <tr>\n",
       "      <th>392</th>\n",
       "      <td>Prof</td>\n",
       "      <td>A</td>\n",
       "      <td>33</td>\n",
       "      <td>30</td>\n",
       "      <td>Male</td>\n",
       "      <td>103106</td>\n",
       "    </tr>\n",
       "    <tr>\n",
       "      <th>393</th>\n",
       "      <td>Prof</td>\n",
       "      <td>A</td>\n",
       "      <td>31</td>\n",
       "      <td>19</td>\n",
       "      <td>Male</td>\n",
       "      <td>150564</td>\n",
       "    </tr>\n",
       "    <tr>\n",
       "      <th>394</th>\n",
       "      <td>Prof</td>\n",
       "      <td>A</td>\n",
       "      <td>42</td>\n",
       "      <td>25</td>\n",
       "      <td>Male</td>\n",
       "      <td>101738</td>\n",
       "    </tr>\n",
       "    <tr>\n",
       "      <th>395</th>\n",
       "      <td>Prof</td>\n",
       "      <td>A</td>\n",
       "      <td>25</td>\n",
       "      <td>15</td>\n",
       "      <td>Male</td>\n",
       "      <td>95329</td>\n",
       "    </tr>\n",
       "    <tr>\n",
       "      <th>396</th>\n",
       "      <td>AsstProf</td>\n",
       "      <td>A</td>\n",
       "      <td>8</td>\n",
       "      <td>4</td>\n",
       "      <td>Male</td>\n",
       "      <td>81035</td>\n",
       "    </tr>\n",
       "  </tbody>\n",
       "</table>\n",
       "<p>397 rows × 6 columns</p>\n",
       "</div>"
      ],
      "text/plain": [
       "         rank discipline  yrs.since.phd  yrs.service   sex  salary\n",
       "0        Prof          B             19           18  Male  139750\n",
       "1        Prof          B             20           16  Male  173200\n",
       "2    AsstProf          B              4            3  Male   79750\n",
       "3        Prof          B             45           39  Male  115000\n",
       "4        Prof          B             40           41  Male  141500\n",
       "..        ...        ...            ...          ...   ...     ...\n",
       "392      Prof          A             33           30  Male  103106\n",
       "393      Prof          A             31           19  Male  150564\n",
       "394      Prof          A             42           25  Male  101738\n",
       "395      Prof          A             25           15  Male   95329\n",
       "396  AsstProf          A              8            4  Male   81035\n",
       "\n",
       "[397 rows x 6 columns]"
      ]
     },
     "execution_count": 3,
     "metadata": {},
     "output_type": "execute_result"
    }
   ],
   "source": [
    "df"
   ]
  },
  {
   "cell_type": "code",
   "execution_count": 4,
   "id": "ff7ae1d7",
   "metadata": {},
   "outputs": [
    {
     "data": {
      "text/plain": [
       "0"
      ]
     },
     "execution_count": 4,
     "metadata": {},
     "output_type": "execute_result"
    }
   ],
   "source": [
    "df.isnull().sum().sum()"
   ]
  },
  {
   "cell_type": "code",
   "execution_count": 5,
   "id": "04b99b2f",
   "metadata": {},
   "outputs": [
    {
     "data": {
      "text/plain": [
       "rank             object\n",
       "discipline       object\n",
       "yrs.since.phd     int64\n",
       "yrs.service       int64\n",
       "sex              object\n",
       "salary            int64\n",
       "dtype: object"
      ]
     },
     "execution_count": 5,
     "metadata": {},
     "output_type": "execute_result"
    }
   ],
   "source": [
    "df.dtypes"
   ]
  },
  {
   "cell_type": "code",
   "execution_count": 6,
   "id": "311b222c",
   "metadata": {},
   "outputs": [
    {
     "data": {
      "text/html": [
       "<div>\n",
       "<style scoped>\n",
       "    .dataframe tbody tr th:only-of-type {\n",
       "        vertical-align: middle;\n",
       "    }\n",
       "\n",
       "    .dataframe tbody tr th {\n",
       "        vertical-align: top;\n",
       "    }\n",
       "\n",
       "    .dataframe thead th {\n",
       "        text-align: right;\n",
       "    }\n",
       "</style>\n",
       "<table border=\"1\" class=\"dataframe\">\n",
       "  <thead>\n",
       "    <tr style=\"text-align: right;\">\n",
       "      <th></th>\n",
       "      <th>yrs.since.phd</th>\n",
       "      <th>yrs.service</th>\n",
       "      <th>salary</th>\n",
       "    </tr>\n",
       "  </thead>\n",
       "  <tbody>\n",
       "    <tr>\n",
       "      <th>count</th>\n",
       "      <td>397.000000</td>\n",
       "      <td>397.000000</td>\n",
       "      <td>397.000000</td>\n",
       "    </tr>\n",
       "    <tr>\n",
       "      <th>mean</th>\n",
       "      <td>22.314861</td>\n",
       "      <td>17.614610</td>\n",
       "      <td>113706.458438</td>\n",
       "    </tr>\n",
       "    <tr>\n",
       "      <th>std</th>\n",
       "      <td>12.887003</td>\n",
       "      <td>13.006024</td>\n",
       "      <td>30289.038695</td>\n",
       "    </tr>\n",
       "    <tr>\n",
       "      <th>min</th>\n",
       "      <td>1.000000</td>\n",
       "      <td>0.000000</td>\n",
       "      <td>57800.000000</td>\n",
       "    </tr>\n",
       "    <tr>\n",
       "      <th>25%</th>\n",
       "      <td>12.000000</td>\n",
       "      <td>7.000000</td>\n",
       "      <td>91000.000000</td>\n",
       "    </tr>\n",
       "    <tr>\n",
       "      <th>50%</th>\n",
       "      <td>21.000000</td>\n",
       "      <td>16.000000</td>\n",
       "      <td>107300.000000</td>\n",
       "    </tr>\n",
       "    <tr>\n",
       "      <th>75%</th>\n",
       "      <td>32.000000</td>\n",
       "      <td>27.000000</td>\n",
       "      <td>134185.000000</td>\n",
       "    </tr>\n",
       "    <tr>\n",
       "      <th>max</th>\n",
       "      <td>56.000000</td>\n",
       "      <td>60.000000</td>\n",
       "      <td>231545.000000</td>\n",
       "    </tr>\n",
       "  </tbody>\n",
       "</table>\n",
       "</div>"
      ],
      "text/plain": [
       "       yrs.since.phd  yrs.service         salary\n",
       "count     397.000000   397.000000     397.000000\n",
       "mean       22.314861    17.614610  113706.458438\n",
       "std        12.887003    13.006024   30289.038695\n",
       "min         1.000000     0.000000   57800.000000\n",
       "25%        12.000000     7.000000   91000.000000\n",
       "50%        21.000000    16.000000  107300.000000\n",
       "75%        32.000000    27.000000  134185.000000\n",
       "max        56.000000    60.000000  231545.000000"
      ]
     },
     "execution_count": 6,
     "metadata": {},
     "output_type": "execute_result"
    }
   ],
   "source": [
    "df.describe()"
   ]
  },
  {
   "cell_type": "code",
   "execution_count": 7,
   "id": "c7045512",
   "metadata": {},
   "outputs": [],
   "source": [
    "from sklearn.model_selection import train_test_split"
   ]
  },
  {
   "cell_type": "code",
   "execution_count": 8,
   "id": "d4cacd17",
   "metadata": {},
   "outputs": [],
   "source": [
    "x=df['yrs.since.phd'].values\n",
    "y=df['salary'].values"
   ]
  },
  {
   "cell_type": "code",
   "execution_count": 9,
   "id": "e9b52923",
   "metadata": {},
   "outputs": [],
   "source": [
    "x=x.reshape(397,1)"
   ]
  },
  {
   "cell_type": "code",
   "execution_count": 10,
   "id": "34a81439",
   "metadata": {},
   "outputs": [],
   "source": [
    "x_train, x_test, y_train, y_test = train_test_split(x, y, test_size=1/3, random_state=0)"
   ]
  },
  {
   "cell_type": "code",
   "execution_count": 11,
   "id": "eb1ac07e",
   "metadata": {},
   "outputs": [
    {
     "data": {
      "text/plain": [
       "(264, 1)"
      ]
     },
     "execution_count": 11,
     "metadata": {},
     "output_type": "execute_result"
    }
   ],
   "source": [
    "x_train.shape"
   ]
  },
  {
   "cell_type": "code",
   "execution_count": 12,
   "id": "775f984d",
   "metadata": {},
   "outputs": [
    {
     "data": {
      "text/plain": [
       "(264,)"
      ]
     },
     "execution_count": 12,
     "metadata": {},
     "output_type": "execute_result"
    }
   ],
   "source": [
    "y_train.shape"
   ]
  },
  {
   "cell_type": "code",
   "execution_count": 13,
   "id": "7c9d3b7c",
   "metadata": {},
   "outputs": [],
   "source": [
    "from sklearn.linear_model import LinearRegression"
   ]
  },
  {
   "cell_type": "code",
   "execution_count": 14,
   "id": "b7721440",
   "metadata": {},
   "outputs": [],
   "source": [
    "regressor=LinearRegression()"
   ]
  },
  {
   "cell_type": "code",
   "execution_count": 15,
   "id": "446afdaa",
   "metadata": {},
   "outputs": [
    {
     "data": {
      "text/plain": [
       "LinearRegression()"
      ]
     },
     "execution_count": 15,
     "metadata": {},
     "output_type": "execute_result"
    }
   ],
   "source": [
    "regressor.fit(x_train,y_train)"
   ]
  },
  {
   "cell_type": "code",
   "execution_count": 16,
   "id": "38e22f8d",
   "metadata": {},
   "outputs": [],
   "source": [
    "y_pred=regressor.predict(x_test)"
   ]
  },
  {
   "cell_type": "code",
   "execution_count": 17,
   "id": "a8de1848",
   "metadata": {},
   "outputs": [
    {
     "data": {
      "text/plain": [
       "array([102144.13127128, 103089.05233893, 120097.63155656,  96474.60486541,\n",
       "       100254.28913599, 104978.89447422, 104033.97340657, 102144.13127128,\n",
       "        94584.76273011, 115373.02621833, 116317.94728597, 106868.73660951,\n",
       "       133326.5265036 , 101199.21020364, 107813.65767716, 112538.26301539,\n",
       "       111593.34194774, 110648.4208801 , 112538.26301539, 104978.89447422,\n",
       "       121042.5526242 ,  98364.4470007 , 101199.21020364, 109703.49981245,\n",
       "       112538.26301539, 101199.21020364, 105923.81554187, 126712.07903008,\n",
       "       109703.49981245, 126712.07903008, 123877.31582714, 108758.5787448 ,\n",
       "        97419.52593305, 105923.81554187, 103089.05233893,  98364.4470007 ,\n",
       "       120097.63155656, 130491.76330066, 119152.71048891, 103089.05233893,\n",
       "       121987.47369185, 112538.26301539, 131436.68436831, 116317.94728597,\n",
       "       120097.63155656, 116317.94728597, 130491.76330066, 121042.5526242 ,\n",
       "       128601.92116537, 111593.34194774, 101199.21020364, 107813.65767716,\n",
       "       125767.15796243, 104033.97340657, 104978.89447422, 126712.07903008,\n",
       "       117262.86835362, 119152.71048891, 138996.05290948, 131436.68436831,\n",
       "       129546.84223302,  98364.4470007 , 103089.05233893, 104978.89447422,\n",
       "       104033.97340657, 107813.65767716,  99309.36806834, 104978.89447422,\n",
       "       108758.5787448 , 136161.28970654, 101199.21020364, 109703.49981245,\n",
       "       122932.39475949, 125767.15796243, 112538.26301539, 138051.13184183,\n",
       "       101199.21020364, 120097.63155656,  94584.76273011, 116317.94728597,\n",
       "        97419.52593305, 106868.73660951, 104978.89447422, 108758.5787448 ,\n",
       "       136161.28970654, 139940.97397712, 105923.81554187, 132381.60543595,\n",
       "        97419.52593305,  99309.36806834, 115373.02621833, 113483.18408303,\n",
       "       111593.34194774, 119152.71048891, 115373.02621833, 122932.39475949,\n",
       "       115373.02621833,  97419.52593305, 113483.18408303, 104033.97340657,\n",
       "        97419.52593305, 109703.49981245, 128601.92116537, 109703.49981245,\n",
       "       132381.60543595, 130491.76330066, 136161.28970654, 109703.49981245,\n",
       "       102144.13127128, 120097.63155656, 127657.00009772, 105923.81554187,\n",
       "       118207.78942126, 121987.47369185,  94584.76273011, 120097.63155656,\n",
       "       139940.97397712, 103089.05233893, 113483.18408303, 112538.26301539,\n",
       "       130491.76330066,  96474.60486541, 106868.73660951, 125767.15796243,\n",
       "       121042.5526242 , 113483.18408303, 111593.34194774, 131436.68436831,\n",
       "       117262.86835362, 122932.39475949, 114428.10515068, 106868.73660951,\n",
       "       122932.39475949])"
      ]
     },
     "execution_count": 17,
     "metadata": {},
     "output_type": "execute_result"
    }
   ],
   "source": [
    "y_pred"
   ]
  },
  {
   "cell_type": "code",
   "execution_count": 18,
   "id": "40547fab",
   "metadata": {},
   "outputs": [],
   "source": [
    "result=pd.DataFrame({'Actual':y_test,'Predicted':y_pred})"
   ]
  },
  {
   "cell_type": "code",
   "execution_count": 19,
   "id": "dc099e63",
   "metadata": {},
   "outputs": [
    {
     "data": {
      "text/html": [
       "<div>\n",
       "<style scoped>\n",
       "    .dataframe tbody tr th:only-of-type {\n",
       "        vertical-align: middle;\n",
       "    }\n",
       "\n",
       "    .dataframe tbody tr th {\n",
       "        vertical-align: top;\n",
       "    }\n",
       "\n",
       "    .dataframe thead th {\n",
       "        text-align: right;\n",
       "    }\n",
       "</style>\n",
       "<table border=\"1\" class=\"dataframe\">\n",
       "  <thead>\n",
       "    <tr style=\"text-align: right;\">\n",
       "      <th></th>\n",
       "      <th>Actual</th>\n",
       "      <th>Predicted</th>\n",
       "    </tr>\n",
       "  </thead>\n",
       "  <tbody>\n",
       "    <tr>\n",
       "      <th>0</th>\n",
       "      <td>100522</td>\n",
       "      <td>102144.131271</td>\n",
       "    </tr>\n",
       "    <tr>\n",
       "      <th>1</th>\n",
       "      <td>77500</td>\n",
       "      <td>103089.052339</td>\n",
       "    </tr>\n",
       "    <tr>\n",
       "      <th>2</th>\n",
       "      <td>113398</td>\n",
       "      <td>120097.631557</td>\n",
       "    </tr>\n",
       "    <tr>\n",
       "      <th>3</th>\n",
       "      <td>86100</td>\n",
       "      <td>96474.604865</td>\n",
       "    </tr>\n",
       "    <tr>\n",
       "      <th>4</th>\n",
       "      <td>86373</td>\n",
       "      <td>100254.289136</td>\n",
       "    </tr>\n",
       "    <tr>\n",
       "      <th>...</th>\n",
       "      <td>...</td>\n",
       "      <td>...</td>\n",
       "    </tr>\n",
       "    <tr>\n",
       "      <th>128</th>\n",
       "      <td>145028</td>\n",
       "      <td>117262.868354</td>\n",
       "    </tr>\n",
       "    <tr>\n",
       "      <th>129</th>\n",
       "      <td>150564</td>\n",
       "      <td>122932.394759</td>\n",
       "    </tr>\n",
       "    <tr>\n",
       "      <th>130</th>\n",
       "      <td>101000</td>\n",
       "      <td>114428.105151</td>\n",
       "    </tr>\n",
       "    <tr>\n",
       "      <th>131</th>\n",
       "      <td>105260</td>\n",
       "      <td>106868.736610</td>\n",
       "    </tr>\n",
       "    <tr>\n",
       "      <th>132</th>\n",
       "      <td>122500</td>\n",
       "      <td>122932.394759</td>\n",
       "    </tr>\n",
       "  </tbody>\n",
       "</table>\n",
       "<p>133 rows × 2 columns</p>\n",
       "</div>"
      ],
      "text/plain": [
       "     Actual      Predicted\n",
       "0    100522  102144.131271\n",
       "1     77500  103089.052339\n",
       "2    113398  120097.631557\n",
       "3     86100   96474.604865\n",
       "4     86373  100254.289136\n",
       "..      ...            ...\n",
       "128  145028  117262.868354\n",
       "129  150564  122932.394759\n",
       "130  101000  114428.105151\n",
       "131  105260  106868.736610\n",
       "132  122500  122932.394759\n",
       "\n",
       "[133 rows x 2 columns]"
      ]
     },
     "execution_count": 19,
     "metadata": {},
     "output_type": "execute_result"
    }
   ],
   "source": [
    "result"
   ]
  },
  {
   "cell_type": "code",
   "execution_count": 20,
   "id": "e37d8883",
   "metadata": {},
   "outputs": [],
   "source": [
    "a=df['yrs.service'].values\n",
    "b=df['salary'].values"
   ]
  },
  {
   "cell_type": "code",
   "execution_count": 21,
   "id": "d009afd7",
   "metadata": {},
   "outputs": [],
   "source": [
    "a=a.reshape(397,1)"
   ]
  },
  {
   "cell_type": "code",
   "execution_count": 22,
   "id": "258ac733",
   "metadata": {},
   "outputs": [],
   "source": [
    "a_train, a_test, b_train, b_test = train_test_split(a, b, test_size=1/3, random_state=0)"
   ]
  },
  {
   "cell_type": "code",
   "execution_count": 23,
   "id": "129ebfe1",
   "metadata": {},
   "outputs": [
    {
     "data": {
      "text/plain": [
       "(264, 1)"
      ]
     },
     "execution_count": 23,
     "metadata": {},
     "output_type": "execute_result"
    }
   ],
   "source": [
    "a_train.shape"
   ]
  },
  {
   "cell_type": "code",
   "execution_count": 24,
   "id": "f8a8d374",
   "metadata": {},
   "outputs": [
    {
     "data": {
      "text/plain": [
       "(264,)"
      ]
     },
     "execution_count": 24,
     "metadata": {},
     "output_type": "execute_result"
    }
   ],
   "source": [
    "b_train.shape"
   ]
  },
  {
   "cell_type": "code",
   "execution_count": 25,
   "id": "54c64ac5",
   "metadata": {},
   "outputs": [
    {
     "data": {
      "text/plain": [
       "LinearRegression()"
      ]
     },
     "execution_count": 25,
     "metadata": {},
     "output_type": "execute_result"
    }
   ],
   "source": [
    "regressor.fit(a_train,b_train)"
   ]
  },
  {
   "cell_type": "code",
   "execution_count": 26,
   "id": "cd90f181",
   "metadata": {},
   "outputs": [],
   "source": [
    "b_pred=regressor.predict(a_test)"
   ]
  },
  {
   "cell_type": "code",
   "execution_count": 27,
   "id": "1e62b877",
   "metadata": {},
   "outputs": [
    {
     "data": {
      "text/plain": [
       "array([107810.52161385, 107810.52161385, 118886.15816591, 102641.89122289,\n",
       "       104857.0185333 , 110025.64892426, 102641.89122289, 107810.52161385,\n",
       "       102641.89122289, 112979.15200481, 115194.27931522, 108548.89738398,\n",
       "       120362.90970618, 104118.64276316, 109287.27315412, 116671.03085549,\n",
       "       115932.65508536, 109287.27315412, 115194.27931522, 107810.52161385,\n",
       "       121839.66124646, 101903.51545275, 104857.0185333 , 104118.64276316,\n",
       "       108548.89738398, 106333.77007357, 110025.64892426, 124054.78855687,\n",
       "       114455.90354508, 120362.90970618, 124054.78855687, 112979.15200481,\n",
       "       101903.51545275, 110025.64892426, 107072.14584371, 105595.39430343,\n",
       "       120362.90970618, 127746.66740755, 113717.52777495, 105595.39430343,\n",
       "       118886.15816591, 113717.52777495, 128485.04317769, 118886.15816591,\n",
       "       112240.77623467, 118147.78239577, 129961.79471797, 112979.15200481,\n",
       "       129223.41894783, 110025.64892426, 106333.77007357, 109287.27315412,\n",
       "       116671.03085549, 104118.64276316, 107810.52161385, 118886.15816591,\n",
       "       112979.15200481, 115932.65508536, 141037.43127003, 132176.92202838,\n",
       "       118147.78239577, 104118.64276316, 107810.52161385, 104118.64276316,\n",
       "       107810.52161385, 113717.52777495, 106333.77007357, 109287.27315412,\n",
       "       110025.64892426, 135130.42510893, 105595.39430343, 114455.90354508,\n",
       "       121101.28547632, 126269.91586728, 115194.27931522, 134392.04933879,\n",
       "       104118.64276316, 122578.03701659, 101903.51545275, 118147.78239577,\n",
       "       104118.64276316, 105595.39430343, 108548.89738398, 105595.39430343,\n",
       "       135130.42510893, 146206.06166099, 107810.52161385, 126269.91586728,\n",
       "       104857.0185333 , 104118.64276316, 117409.40662563, 116671.03085549,\n",
       "       107072.14584371, 121839.66124646, 112979.15200481, 124054.78855687,\n",
       "       116671.03085549, 104857.0185333 , 115194.27931522, 110025.64892426,\n",
       "       103380.26699302, 110025.64892426, 121839.66124646, 113717.52777495,\n",
       "       121839.66124646, 130700.1704881 , 133653.67356865, 110764.0246944 ,\n",
       "       107072.14584371, 111502.40046453, 124793.16432701, 109287.27315412,\n",
       "       119624.53393604, 124054.78855687, 102641.89122289, 114455.90354508,\n",
       "       133653.67356865, 107072.14584371, 117409.40662563, 116671.03085549,\n",
       "       129961.79471797, 104118.64276316, 107810.52161385, 124054.78855687,\n",
       "       107072.14584371, 117409.40662563, 106333.77007357, 115932.65508536,\n",
       "       117409.40662563, 115932.65508536, 110764.0246944 , 104857.0185333 ,\n",
       "       122578.03701659])"
      ]
     },
     "execution_count": 27,
     "metadata": {},
     "output_type": "execute_result"
    }
   ],
   "source": [
    "b_pred"
   ]
  },
  {
   "cell_type": "code",
   "execution_count": 28,
   "id": "5e5b5c3c",
   "metadata": {},
   "outputs": [],
   "source": [
    "result=pd.DataFrame({'Actual':b_test,'Predicted':b_pred})"
   ]
  },
  {
   "cell_type": "code",
   "execution_count": 29,
   "id": "ae5dbe1b",
   "metadata": {},
   "outputs": [
    {
     "data": {
      "text/html": [
       "<div>\n",
       "<style scoped>\n",
       "    .dataframe tbody tr th:only-of-type {\n",
       "        vertical-align: middle;\n",
       "    }\n",
       "\n",
       "    .dataframe tbody tr th {\n",
       "        vertical-align: top;\n",
       "    }\n",
       "\n",
       "    .dataframe thead th {\n",
       "        text-align: right;\n",
       "    }\n",
       "</style>\n",
       "<table border=\"1\" class=\"dataframe\">\n",
       "  <thead>\n",
       "    <tr style=\"text-align: right;\">\n",
       "      <th></th>\n",
       "      <th>Actual</th>\n",
       "      <th>Predicted</th>\n",
       "    </tr>\n",
       "  </thead>\n",
       "  <tbody>\n",
       "    <tr>\n",
       "      <th>0</th>\n",
       "      <td>100522</td>\n",
       "      <td>107810.521614</td>\n",
       "    </tr>\n",
       "    <tr>\n",
       "      <th>1</th>\n",
       "      <td>77500</td>\n",
       "      <td>107810.521614</td>\n",
       "    </tr>\n",
       "    <tr>\n",
       "      <th>2</th>\n",
       "      <td>113398</td>\n",
       "      <td>118886.158166</td>\n",
       "    </tr>\n",
       "    <tr>\n",
       "      <th>3</th>\n",
       "      <td>86100</td>\n",
       "      <td>102641.891223</td>\n",
       "    </tr>\n",
       "    <tr>\n",
       "      <th>4</th>\n",
       "      <td>86373</td>\n",
       "      <td>104857.018533</td>\n",
       "    </tr>\n",
       "    <tr>\n",
       "      <th>...</th>\n",
       "      <td>...</td>\n",
       "      <td>...</td>\n",
       "    </tr>\n",
       "    <tr>\n",
       "      <th>128</th>\n",
       "      <td>145028</td>\n",
       "      <td>117409.406626</td>\n",
       "    </tr>\n",
       "    <tr>\n",
       "      <th>129</th>\n",
       "      <td>150564</td>\n",
       "      <td>115932.655085</td>\n",
       "    </tr>\n",
       "    <tr>\n",
       "      <th>130</th>\n",
       "      <td>101000</td>\n",
       "      <td>110764.024694</td>\n",
       "    </tr>\n",
       "    <tr>\n",
       "      <th>131</th>\n",
       "      <td>105260</td>\n",
       "      <td>104857.018533</td>\n",
       "    </tr>\n",
       "    <tr>\n",
       "      <th>132</th>\n",
       "      <td>122500</td>\n",
       "      <td>122578.037017</td>\n",
       "    </tr>\n",
       "  </tbody>\n",
       "</table>\n",
       "<p>133 rows × 2 columns</p>\n",
       "</div>"
      ],
      "text/plain": [
       "     Actual      Predicted\n",
       "0    100522  107810.521614\n",
       "1     77500  107810.521614\n",
       "2    113398  118886.158166\n",
       "3     86100  102641.891223\n",
       "4     86373  104857.018533\n",
       "..      ...            ...\n",
       "128  145028  117409.406626\n",
       "129  150564  115932.655085\n",
       "130  101000  110764.024694\n",
       "131  105260  104857.018533\n",
       "132  122500  122578.037017\n",
       "\n",
       "[133 rows x 2 columns]"
      ]
     },
     "execution_count": 29,
     "metadata": {},
     "output_type": "execute_result"
    }
   ],
   "source": [
    "result"
   ]
  },
  {
   "cell_type": "code",
   "execution_count": null,
   "id": "a34732d7",
   "metadata": {},
   "outputs": [],
   "source": []
  },
  {
   "cell_type": "code",
   "execution_count": null,
   "id": "712b159d",
   "metadata": {},
   "outputs": [],
   "source": []
  }
 ],
 "metadata": {
  "kernelspec": {
   "display_name": "Python 3 (ipykernel)",
   "language": "python",
   "name": "python3"
  },
  "language_info": {
   "codemirror_mode": {
    "name": "ipython",
    "version": 3
   },
   "file_extension": ".py",
   "mimetype": "text/x-python",
   "name": "python",
   "nbconvert_exporter": "python",
   "pygments_lexer": "ipython3",
   "version": "3.9.7"
  }
 },
 "nbformat": 4,
 "nbformat_minor": 5
}
