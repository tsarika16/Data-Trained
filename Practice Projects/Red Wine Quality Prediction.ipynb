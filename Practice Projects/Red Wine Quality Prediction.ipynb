{
 "cells": [
  {
   "cell_type": "code",
   "execution_count": 1,
   "id": "cbf28e07",
   "metadata": {},
   "outputs": [],
   "source": [
    "# Importing packages\n",
    "import pandas as pd\n",
    "import numpy as np\n",
    "import seaborn as sns\n",
    "import matplotlib.pyplot as plt\n",
    "from sklearn.ensemble import RandomForestClassifier\n",
    "from sklearn.linear_model import LogisticRegression\n",
    "from sklearn.metrics import confusion_matrix, classification_report, accuracy_score, f1_score, make_scorer, precision_score\n",
    "from sklearn.preprocessing import StandardScaler, LabelEncoder\n",
    "from sklearn.model_selection import train_test_split, GridSearchCV, cross_val_score\n",
    "%matplotlib inline\n",
    "import warnings\n",
    "warnings.filterwarnings('ignore')"
   ]
  },
  {
   "cell_type": "code",
   "execution_count": 2,
   "id": "9588e4a2",
   "metadata": {},
   "outputs": [
    {
     "data": {
      "text/html": [
       "<div>\n",
       "<style scoped>\n",
       "    .dataframe tbody tr th:only-of-type {\n",
       "        vertical-align: middle;\n",
       "    }\n",
       "\n",
       "    .dataframe tbody tr th {\n",
       "        vertical-align: top;\n",
       "    }\n",
       "\n",
       "    .dataframe thead th {\n",
       "        text-align: right;\n",
       "    }\n",
       "</style>\n",
       "<table border=\"1\" class=\"dataframe\">\n",
       "  <thead>\n",
       "    <tr style=\"text-align: right;\">\n",
       "      <th></th>\n",
       "      <th>fixed acidity</th>\n",
       "      <th>volatile acidity</th>\n",
       "      <th>citric acid</th>\n",
       "      <th>residual sugar</th>\n",
       "      <th>chlorides</th>\n",
       "      <th>free sulfur dioxide</th>\n",
       "      <th>total sulfur dioxide</th>\n",
       "      <th>density</th>\n",
       "      <th>pH</th>\n",
       "      <th>sulphates</th>\n",
       "      <th>alcohol</th>\n",
       "      <th>quality</th>\n",
       "    </tr>\n",
       "  </thead>\n",
       "  <tbody>\n",
       "    <tr>\n",
       "      <th>0</th>\n",
       "      <td>7.4</td>\n",
       "      <td>0.70</td>\n",
       "      <td>0.00</td>\n",
       "      <td>1.9</td>\n",
       "      <td>0.076</td>\n",
       "      <td>11.0</td>\n",
       "      <td>34.0</td>\n",
       "      <td>0.9978</td>\n",
       "      <td>3.51</td>\n",
       "      <td>0.56</td>\n",
       "      <td>9.4</td>\n",
       "      <td>5</td>\n",
       "    </tr>\n",
       "    <tr>\n",
       "      <th>1</th>\n",
       "      <td>7.8</td>\n",
       "      <td>0.88</td>\n",
       "      <td>0.00</td>\n",
       "      <td>2.6</td>\n",
       "      <td>0.098</td>\n",
       "      <td>25.0</td>\n",
       "      <td>67.0</td>\n",
       "      <td>0.9968</td>\n",
       "      <td>3.20</td>\n",
       "      <td>0.68</td>\n",
       "      <td>9.8</td>\n",
       "      <td>5</td>\n",
       "    </tr>\n",
       "    <tr>\n",
       "      <th>2</th>\n",
       "      <td>7.8</td>\n",
       "      <td>0.76</td>\n",
       "      <td>0.04</td>\n",
       "      <td>2.3</td>\n",
       "      <td>0.092</td>\n",
       "      <td>15.0</td>\n",
       "      <td>54.0</td>\n",
       "      <td>0.9970</td>\n",
       "      <td>3.26</td>\n",
       "      <td>0.65</td>\n",
       "      <td>9.8</td>\n",
       "      <td>5</td>\n",
       "    </tr>\n",
       "    <tr>\n",
       "      <th>3</th>\n",
       "      <td>11.2</td>\n",
       "      <td>0.28</td>\n",
       "      <td>0.56</td>\n",
       "      <td>1.9</td>\n",
       "      <td>0.075</td>\n",
       "      <td>17.0</td>\n",
       "      <td>60.0</td>\n",
       "      <td>0.9980</td>\n",
       "      <td>3.16</td>\n",
       "      <td>0.58</td>\n",
       "      <td>9.8</td>\n",
       "      <td>6</td>\n",
       "    </tr>\n",
       "    <tr>\n",
       "      <th>4</th>\n",
       "      <td>7.4</td>\n",
       "      <td>0.70</td>\n",
       "      <td>0.00</td>\n",
       "      <td>1.9</td>\n",
       "      <td>0.076</td>\n",
       "      <td>11.0</td>\n",
       "      <td>34.0</td>\n",
       "      <td>0.9978</td>\n",
       "      <td>3.51</td>\n",
       "      <td>0.56</td>\n",
       "      <td>9.4</td>\n",
       "      <td>5</td>\n",
       "    </tr>\n",
       "  </tbody>\n",
       "</table>\n",
       "</div>"
      ],
      "text/plain": [
       "   fixed acidity  volatile acidity  citric acid  residual sugar  chlorides  \\\n",
       "0            7.4              0.70         0.00             1.9      0.076   \n",
       "1            7.8              0.88         0.00             2.6      0.098   \n",
       "2            7.8              0.76         0.04             2.3      0.092   \n",
       "3           11.2              0.28         0.56             1.9      0.075   \n",
       "4            7.4              0.70         0.00             1.9      0.076   \n",
       "\n",
       "   free sulfur dioxide  total sulfur dioxide  density    pH  sulphates  \\\n",
       "0                 11.0                  34.0   0.9978  3.51       0.56   \n",
       "1                 25.0                  67.0   0.9968  3.20       0.68   \n",
       "2                 15.0                  54.0   0.9970  3.26       0.65   \n",
       "3                 17.0                  60.0   0.9980  3.16       0.58   \n",
       "4                 11.0                  34.0   0.9978  3.51       0.56   \n",
       "\n",
       "   alcohol  quality  \n",
       "0      9.4        5  \n",
       "1      9.8        5  \n",
       "2      9.8        5  \n",
       "3      9.8        6  \n",
       "4      9.4        5  "
      ]
     },
     "execution_count": 2,
     "metadata": {},
     "output_type": "execute_result"
    }
   ],
   "source": [
    "#Loading Dataset\n",
    "wine_data = pd.read_csv(\"https://raw.githubusercontent.com/dsrscientist/DSData/master/winequality-red.csv\")\n",
    "\n",
    "#Viewing the data\n",
    "wine_data.head()"
   ]
  },
  {
   "cell_type": "code",
   "execution_count": 3,
   "id": "ac4aae07",
   "metadata": {},
   "outputs": [
    {
     "name": "stdout",
     "output_type": "stream",
     "text": [
      "<class 'pandas.core.frame.DataFrame'>\n",
      "RangeIndex: 1599 entries, 0 to 1598\n",
      "Data columns (total 12 columns):\n",
      " #   Column                Non-Null Count  Dtype  \n",
      "---  ------                --------------  -----  \n",
      " 0   fixed acidity         1599 non-null   float64\n",
      " 1   volatile acidity      1599 non-null   float64\n",
      " 2   citric acid           1599 non-null   float64\n",
      " 3   residual sugar        1599 non-null   float64\n",
      " 4   chlorides             1599 non-null   float64\n",
      " 5   free sulfur dioxide   1599 non-null   float64\n",
      " 6   total sulfur dioxide  1599 non-null   float64\n",
      " 7   density               1599 non-null   float64\n",
      " 8   pH                    1599 non-null   float64\n",
      " 9   sulphates             1599 non-null   float64\n",
      " 10  alcohol               1599 non-null   float64\n",
      " 11  quality               1599 non-null   int64  \n",
      "dtypes: float64(11), int64(1)\n",
      "memory usage: 150.0 KB\n"
     ]
    }
   ],
   "source": [
    "# Getting information about the data columns\n",
    "wine_data.info()"
   ]
  },
  {
   "cell_type": "code",
   "execution_count": 4,
   "id": "0e541b83",
   "metadata": {},
   "outputs": [],
   "source": [
    "#Data columns = 12 and 1599 rows"
   ]
  },
  {
   "cell_type": "code",
   "execution_count": 5,
   "id": "1077a344",
   "metadata": {},
   "outputs": [],
   "source": [
    "#Analysing data using Graphical methods"
   ]
  },
  {
   "cell_type": "code",
   "execution_count": 6,
   "id": "6033b9f9",
   "metadata": {},
   "outputs": [
    {
     "data": {
      "text/plain": [
       "<AxesSubplot:xlabel='quality', ylabel='fixed acidity'>"
      ]
     },
     "execution_count": 6,
     "metadata": {},
     "output_type": "execute_result"
    },
    {
     "data": {
      "image/png": "[encoded data removed]",
      "text/plain": [
       "<Figure size 288x360 with 1 Axes>"
      ]
     },
     "metadata": {
      "needs_background": "light"
     },
     "output_type": "display_data"
    }
   ],
   "source": [
    "#Analyzing the fixed acidity against the quality of the the wine.  \n",
    "\n",
    "fig = plt.figure(figsize = (4,5))\n",
    "sns.barplot(x = 'quality', y = 'fixed acidity', data = wine_data)"
   ]
  },
  {
   "cell_type": "code",
   "execution_count": 7,
   "id": "9d893a18",
   "metadata": {},
   "outputs": [],
   "source": [
    "#Acidity does not give any specification to classify the quality."
   ]
  },
  {
   "cell_type": "code",
   "execution_count": 8,
   "id": "7ce45b61",
   "metadata": {},
   "outputs": [
    {
     "data": {
      "text/plain": [
       "<AxesSubplot:xlabel='quality', ylabel='volatile acidity'>"
      ]
     },
     "execution_count": 8,
     "metadata": {},
     "output_type": "execute_result"
    },
    {
     "data": {
      "image/png": "[encoded data removed]",
      "text/plain": [
       "<Figure size 288x360 with 1 Axes>"
      ]
     },
     "metadata": {
      "needs_background": "light"
     },
     "output_type": "display_data"
    }
   ],
   "source": [
    "#We will check for the similar effect for volatile acidity\n",
    "fig = plt.figure(figsize = (4,5))\n",
    "sns.barplot(x = 'quality', y = 'volatile acidity', data = wine_data)"
   ]
  },
  {
   "cell_type": "code",
   "execution_count": 9,
   "id": "3d0d34fd",
   "metadata": {},
   "outputs": [],
   "source": [
    "#We can see decreasing trend in volatile acidity as we go higher"
   ]
  },
  {
   "cell_type": "code",
   "execution_count": 10,
   "id": "0e41c8bc",
   "metadata": {},
   "outputs": [
    {
     "data": {
      "text/plain": [
       "<AxesSubplot:xlabel='quality', ylabel='citric acid'>"
      ]
     },
     "execution_count": 10,
     "metadata": {},
     "output_type": "execute_result"
    },
    {
     "data": {
      "image/png": "[encoded data removed]",
      "text/plain": [
       "<Figure size 288x360 with 1 Axes>"
      ]
     },
     "metadata": {
      "needs_background": "light"
     },
     "output_type": "display_data"
    }
   ],
   "source": [
    "#We will check the citric acid quantity against the quality of red wine\n",
    "fig = plt.figure(figsize = (4,5))\n",
    "sns.barplot(x = 'quality', y = 'citric acid', data = wine_data)"
   ]
  },
  {
   "cell_type": "code",
   "execution_count": 11,
   "id": "ba7e770f",
   "metadata": {},
   "outputs": [],
   "source": [
    "#Citric acid composition goes higher as we go higher in the quality of the wine"
   ]
  },
  {
   "cell_type": "code",
   "execution_count": 12,
   "id": "ef15d562",
   "metadata": {},
   "outputs": [
    {
     "data": {
      "text/plain": [
       "<AxesSubplot:xlabel='quality', ylabel='residual sugar'>"
      ]
     },
     "execution_count": 12,
     "metadata": {},
     "output_type": "execute_result"
    },
    {
     "data": {
      "image/png": "[encoded data removed]",
      "text/plain": [
       "<Figure size 288x360 with 1 Axes>"
      ]
     },
     "metadata": {
      "needs_background": "light"
     },
     "output_type": "display_data"
    }
   ],
   "source": [
    "#We will analyze the residual sugar against the quality of the wine\n",
    "fig = plt.figure(figsize = (4,5))\n",
    "sns.barplot(x = 'quality', y = 'residual sugar', data = wine_data)"
   ]
  },
  {
   "cell_type": "code",
   "execution_count": 13,
   "id": "1932be74",
   "metadata": {},
   "outputs": [
    {
     "data": {
      "text/plain": [
       "<AxesSubplot:xlabel='quality', ylabel='chlorides'>"
      ]
     },
     "execution_count": 13,
     "metadata": {},
     "output_type": "execute_result"
    },
    {
     "data": {
      "image/png": "[encoded data removed]",
      "text/plain": [
       "<Figure size 288x360 with 1 Axes>"
      ]
     },
     "metadata": {
      "needs_background": "light"
     },
     "output_type": "display_data"
    }
   ],
   "source": [
    "#We will analyse the composition of chloride against the quality of wine\n",
    "fig = plt.figure(figsize = (4,5))\n",
    "sns.barplot(x = 'quality', y = 'chlorides', data = wine_data)"
   ]
  },
  {
   "cell_type": "code",
   "execution_count": 14,
   "id": "e87b823d",
   "metadata": {},
   "outputs": [],
   "source": [
    "#Composition of chloride goes down as we go higher in the quality of the wine"
   ]
  },
  {
   "cell_type": "code",
   "execution_count": 15,
   "id": "7da23c6e",
   "metadata": {},
   "outputs": [
    {
     "data": {
      "text/plain": [
       "<AxesSubplot:xlabel='quality', ylabel='free sulfur dioxide'>"
      ]
     },
     "execution_count": 15,
     "metadata": {},
     "output_type": "execute_result"
    },
    {
     "data": {
      "image/png": "[encoded data removed]",
      "text/plain": [
       "<Figure size 288x360 with 1 Axes>"
      ]
     },
     "metadata": {
      "needs_background": "light"
     },
     "output_type": "display_data"
    }
   ],
   "source": [
    "#We will analyse the composition of free sulfur dioxide against the quality of wine\n",
    "fig = plt.figure(figsize = (4,5))\n",
    "sns.barplot(x = 'quality', y = 'free sulfur dioxide', data = wine_data)"
   ]
  },
  {
   "cell_type": "code",
   "execution_count": 16,
   "id": "74b90162",
   "metadata": {},
   "outputs": [
    {
     "data": {
      "text/plain": [
       "<AxesSubplot:xlabel='quality', ylabel='total sulfur dioxide'>"
      ]
     },
     "execution_count": 16,
     "metadata": {},
     "output_type": "execute_result"
    },
    {
     "data": {
      "image/png": "[encoded data removed]",
      "text/plain": [
       "<Figure size 288x360 with 1 Axes>"
      ]
     },
     "metadata": {
      "needs_background": "light"
     },
     "output_type": "display_data"
    }
   ],
   "source": [
    "#We will analyse the composition of total sulfur dioxide against the quality of wine\n",
    "fig = plt.figure(figsize = (4,5))\n",
    "sns.barplot(x = 'quality', y = 'total sulfur dioxide', data = wine_data)"
   ]
  },
  {
   "cell_type": "code",
   "execution_count": 17,
   "id": "81e5d9b9",
   "metadata": {},
   "outputs": [],
   "source": [
    "# We can see that free sulfur dioxide and total sulfur dioxide content does not have a visible trend against quality of the wine"
   ]
  },
  {
   "cell_type": "code",
   "execution_count": 18,
   "id": "cc74ef17",
   "metadata": {},
   "outputs": [
    {
     "data": {
      "text/plain": [
       "<AxesSubplot:xlabel='quality', ylabel='sulphates'>"
      ]
     },
     "execution_count": 18,
     "metadata": {},
     "output_type": "execute_result"
    },
    {
     "data": {
      "image/png": "[encoded data removed]",
      "text/plain": [
       "<Figure size 288x360 with 1 Axes>"
      ]
     },
     "metadata": {
      "needs_background": "light"
     },
     "output_type": "display_data"
    }
   ],
   "source": [
    "# This plot will give relation between sulphates and quality\n",
    "fig = plt.figure(figsize = (4,5))\n",
    "sns.barplot(x = 'quality', y = 'sulphates', data = wine_data)"
   ]
  },
  {
   "cell_type": "code",
   "execution_count": 19,
   "id": "beb95c7e",
   "metadata": {},
   "outputs": [],
   "source": [
    "# Level of Sulphates go higher with the quality of wine"
   ]
  },
  {
   "cell_type": "code",
   "execution_count": 20,
   "id": "435ac20a",
   "metadata": {},
   "outputs": [
    {
     "data": {
      "text/plain": [
       "<AxesSubplot:xlabel='quality', ylabel='alcohol'>"
      ]
     },
     "execution_count": 20,
     "metadata": {},
     "output_type": "execute_result"
    },
    {
     "data": {
      "image/png": "[encoded data removed]",
      "text/plain": [
       "<Figure size 288x360 with 1 Axes>"
      ]
     },
     "metadata": {
      "needs_background": "light"
     },
     "output_type": "display_data"
    }
   ],
   "source": [
    "fig = plt.figure(figsize = (4,5))\n",
    "sns.barplot(x = 'quality', y = 'alcohol', data = wine_data)"
   ]
  },
  {
   "cell_type": "code",
   "execution_count": 21,
   "id": "c07fa41c",
   "metadata": {},
   "outputs": [],
   "source": [
    "# Level of Alcohol level also goes higher as the quality of wine increases."
   ]
  },
  {
   "cell_type": "code",
   "execution_count": 22,
   "id": "8adacfc7",
   "metadata": {},
   "outputs": [],
   "source": [
    "#Let us plot the correlation matrix to get the correlation of independent variables on the dependent variable."
   ]
  },
  {
   "cell_type": "code",
   "execution_count": 23,
   "id": "e71bcf72",
   "metadata": {},
   "outputs": [
    {
     "data": {
      "text/plain": [
       "<AxesSubplot:>"
      ]
     },
     "execution_count": 23,
     "metadata": {},
     "output_type": "execute_result"
    },
    {
     "data": {
      "image/png": "[encoded data removed]",
      "text/plain": [
       "<Figure size 648x432 with 2 Axes>"
      ]
     },
     "metadata": {
      "needs_background": "light"
     },
     "output_type": "display_data"
    }
   ],
   "source": [
    "d, ax = plt.subplots(figsize=(9, 6))\n",
    "corr = wine_data.corr()\n",
    "sns.heatmap(corr, mask=np.zeros_like(corr, dtype=np.bool), cmap=sns.diverging_palette(210, 50, as_cmap=True),\n",
    "            square=True, ax=ax)"
   ]
  },
  {
   "cell_type": "code",
   "execution_count": 24,
   "id": "bb6711d6",
   "metadata": {},
   "outputs": [],
   "source": [
    "#Features like volatile acidity, alcohol, chlorides are correlated to quality of alcohol to a great extent. "
   ]
  },
  {
   "cell_type": "code",
   "execution_count": 25,
   "id": "5b2c0a54",
   "metadata": {},
   "outputs": [],
   "source": [
    "#Preprocessing Data for Machine learning algorithms"
   ]
  },
  {
   "cell_type": "code",
   "execution_count": 26,
   "id": "1d0dc69d",
   "metadata": {},
   "outputs": [
    {
     "data": {
      "text/plain": [
       "5    681\n",
       "6    638\n",
       "7    199\n",
       "4     53\n",
       "8     18\n",
       "3     10\n",
       "Name: quality, dtype: int64"
      ]
     },
     "execution_count": 26,
     "metadata": {},
     "output_type": "execute_result"
    }
   ],
   "source": [
    "wine_data['quality'].value_counts()"
   ]
  },
  {
   "cell_type": "code",
   "execution_count": 27,
   "id": "6a40831f",
   "metadata": {},
   "outputs": [],
   "source": [
    "#We have quality of the wine as discrete variable ranging from 3 to 8."
   ]
  },
  {
   "cell_type": "code",
   "execution_count": 28,
   "id": "e88d731e",
   "metadata": {},
   "outputs": [],
   "source": [
    "bins = (2, 6.5, 8)\n",
    "group_names = ['bad', 'good']\n",
    "wine_data['quality'] = pd.cut(wine_data['quality'], bins = bins, labels = group_names)"
   ]
  },
  {
   "cell_type": "code",
   "execution_count": 29,
   "id": "f256d8d9",
   "metadata": {},
   "outputs": [],
   "source": [
    "#Converting it into 0/1\n",
    "label_quality = LabelEncoder()\n",
    "\n",
    "#Bad becomes 0 and good becomes 1 \n",
    "wine_data['quality'] = label_quality.fit_transform(wine_data['quality'])"
   ]
  },
  {
   "cell_type": "code",
   "execution_count": 30,
   "id": "1f90b118",
   "metadata": {},
   "outputs": [
    {
     "data": {
      "text/plain": [
       "0    1382\n",
       "1     217\n",
       "Name: quality, dtype: int64"
      ]
     },
     "execution_count": 30,
     "metadata": {},
     "output_type": "execute_result"
    }
   ],
   "source": [
    "wine_data['quality'].value_counts()"
   ]
  },
  {
   "cell_type": "code",
   "execution_count": 31,
   "id": "77c9f180",
   "metadata": {},
   "outputs": [],
   "source": [
    "#Checking Skewness of the data\n",
    "\n",
    "#Separating the X and Y variable\n",
    "x = wine_data.drop('quality', axis = 1)\n",
    "y = wine_data['quality']"
   ]
  },
  {
   "cell_type": "code",
   "execution_count": 32,
   "id": "144a6dfd",
   "metadata": {},
   "outputs": [],
   "source": [
    "#Train and Test splitting of data \n",
    "x_train, x_test, y_train, y_test = train_test_split(x, y, test_size = 0.2, stratify= wine_data['quality'], random_state = 42)"
   ]
  },
  {
   "cell_type": "code",
   "execution_count": 33,
   "id": "0de92739",
   "metadata": {},
   "outputs": [
    {
     "name": "stdout",
     "output_type": "stream",
     "text": [
      "0    1105\n",
      "1     174\n",
      "Name: quality, dtype: int64\n",
      "0    277\n",
      "1     43\n",
      "Name: quality, dtype: int64\n"
     ]
    }
   ],
   "source": [
    "print (y_train.value_counts())\n",
    "print (y_test.value_counts())"
   ]
  },
  {
   "cell_type": "code",
   "execution_count": 34,
   "id": "57bacefd",
   "metadata": {},
   "outputs": [],
   "source": [
    "#Applying Standard scaling to get optimized result.\n",
    "\n",
    "sc = StandardScaler()\n",
    "\n",
    "x_train = sc.fit_transform(x_train)\n",
    "x_test = sc.fit_transform(x_test)"
   ]
  },
  {
   "cell_type": "code",
   "execution_count": 35,
   "id": "a99035c0",
   "metadata": {},
   "outputs": [],
   "source": [
    "#Applying the simple logistic regression algorithm"
   ]
  },
  {
   "cell_type": "code",
   "execution_count": 36,
   "id": "9778c111",
   "metadata": {},
   "outputs": [],
   "source": [
    "logicregres= LogisticRegression()\n",
    "logicregres.fit(x_train, y_train)\n",
    "pred_logicregres= logicregres.predict(x_test)"
   ]
  },
  {
   "cell_type": "code",
   "execution_count": 37,
   "id": "5a493e56",
   "metadata": {},
   "outputs": [
    {
     "name": "stdout",
     "output_type": "stream",
     "text": [
      "0.89375\n"
     ]
    }
   ],
   "source": [
    "print (accuracy_score(y_test, pred_logicregres))"
   ]
  },
  {
   "cell_type": "code",
   "execution_count": 38,
   "id": "1b8c596f",
   "metadata": {},
   "outputs": [],
   "source": [
    "#Let us check the confusion matrix"
   ]
  },
  {
   "cell_type": "code",
   "execution_count": 39,
   "id": "cf32aa49",
   "metadata": {},
   "outputs": [
    {
     "name": "stdout",
     "output_type": "stream",
     "text": [
      "[[269   8]\n",
      " [ 26  17]]\n"
     ]
    }
   ],
   "source": [
    "print(confusion_matrix(y_test, pred_logicregres))"
   ]
  },
  {
   "cell_type": "code",
   "execution_count": 40,
   "id": "faf6b751",
   "metadata": {},
   "outputs": [],
   "source": [
    "#Confusion matrix tells us that the count of false negative is quite high (higher than true positive). FN= 26, TP= 17"
   ]
  },
  {
   "cell_type": "code",
   "execution_count": 41,
   "id": "e622598b",
   "metadata": {},
   "outputs": [],
   "source": [
    "#Lets us check f1 score"
   ]
  },
  {
   "cell_type": "code",
   "execution_count": 42,
   "id": "04de0514",
   "metadata": {},
   "outputs": [
    {
     "name": "stdout",
     "output_type": "stream",
     "text": [
      "0.5\n"
     ]
    }
   ],
   "source": [
    "print (f1_score(y_test, pred_logicregres))"
   ]
  },
  {
   "cell_type": "code",
   "execution_count": 43,
   "id": "d7a03e3d",
   "metadata": {},
   "outputs": [],
   "source": [
    "#Let us apply Random Forest Classifier"
   ]
  },
  {
   "cell_type": "code",
   "execution_count": 44,
   "id": "679bf9d2",
   "metadata": {},
   "outputs": [],
   "source": [
    "rfc = RandomForestClassifier(n_estimators=10, random_state=2)\n",
    "rfc.fit(x_train, y_train)\n",
    "pred_rfc = rfc.predict(x_test)"
   ]
  },
  {
   "cell_type": "code",
   "execution_count": 45,
   "id": "038f2c78",
   "metadata": {},
   "outputs": [
    {
     "data": {
      "text/plain": [
       "0.91875"
      ]
     },
     "execution_count": 45,
     "metadata": {},
     "output_type": "execute_result"
    }
   ],
   "source": [
    "accuracy_score(y_test, pred_rfc)"
   ]
  },
  {
   "cell_type": "code",
   "execution_count": 46,
   "id": "b03fd665",
   "metadata": {},
   "outputs": [
    {
     "data": {
      "text/plain": [
       "0.6060606060606061"
      ]
     },
     "execution_count": 46,
     "metadata": {},
     "output_type": "execute_result"
    }
   ],
   "source": [
    "f1_score(y_test, pred_rfc)"
   ]
  },
  {
   "cell_type": "code",
   "execution_count": 47,
   "id": "7b6453ac",
   "metadata": {},
   "outputs": [],
   "source": [
    "#Using random forest, the f1 score is improved"
   ]
  },
  {
   "cell_type": "code",
   "execution_count": 48,
   "id": "de731fe3",
   "metadata": {},
   "outputs": [],
   "source": [
    "#Let us list down the parameters to keep in the grid for Grid Search CV\n",
    "parameters = {'n_estimators': [30, 40, 50,100,200,300], \n",
    "              'max_features': ['log2', 'sqrt','auto'], \n",
    "              'criterion': ['entropy','gini'],\n",
    "              'max_depth': [10, 15, 18, 20, 25, 30], \n",
    "              'min_samples_split': [2, 3, 5, 7],\n",
    "              'min_samples_leaf': [1,5,8]\n",
    "             }\n",
    "acc_scorer = make_scorer(f1_score)"
   ]
  },
  {
   "cell_type": "code",
   "execution_count": 49,
   "id": "457c93b2",
   "metadata": {},
   "outputs": [],
   "source": [
    "rfc3 = RandomForestClassifier(n_estimators=100,criterion='gini',max_depth=20,max_features='sqrt',\n",
    "                              min_samples_leaf=1,min_samples_split=3, random_state=2  )"
   ]
  },
  {
   "cell_type": "code",
   "execution_count": 50,
   "id": "f454cb19",
   "metadata": {},
   "outputs": [],
   "source": [
    "rfc3.fit(x_train, y_train)\n",
    "pred_rfc3= rfc3.predict(x_test)"
   ]
  },
  {
   "cell_type": "code",
   "execution_count": 51,
   "id": "72290245",
   "metadata": {},
   "outputs": [
    {
     "name": "stdout",
     "output_type": "stream",
     "text": [
      "f1 score is  0.7142857142857142\n",
      "Accuracy is  0.9375\n"
     ]
    }
   ],
   "source": [
    "print (\"f1 score is \", f1_score(y_test, pred_rfc3))\n",
    "print (\"Accuracy is \", accuracy_score(y_test, pred_rfc3))"
   ]
  },
  {
   "cell_type": "code",
   "execution_count": 52,
   "id": "5360fbfe",
   "metadata": {},
   "outputs": [],
   "source": [
    "#We see that f1 score is improved and so is the accuracy."
   ]
  },
  {
   "cell_type": "code",
   "execution_count": null,
   "id": "60dea5d0",
   "metadata": {},
   "outputs": [],
   "source": []
  },
  {
   "cell_type": "code",
   "execution_count": null,
   "id": "1609c7d5",
   "metadata": {},
   "outputs": [],
   "source": []
  }
 ],
 "metadata": {
  "kernelspec": {
   "display_name": "Python 3 (ipykernel)",
   "language": "python",
   "name": "python3"
  },
  "language_info": {
   "codemirror_mode": {
    "name": "ipython",
    "version": 3
   },
   "file_extension": ".py",
   "mimetype": "text/x-python",
   "name": "python",
   "nbconvert_exporter": "python",
   "pygments_lexer": "ipython3",
   "version": "3.9.7"
  }
 },
 "nbformat": 4,
 "nbformat_minor": 5
}
