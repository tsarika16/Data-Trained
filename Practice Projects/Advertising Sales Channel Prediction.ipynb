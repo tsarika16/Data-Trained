{
 "cells": [
  {
   "cell_type": "code",
   "execution_count": 1,
   "id": "36401cec",
   "metadata": {},
   "outputs": [],
   "source": [
    "import pandas as pd\n",
    "import numpy as np\n",
    "import matplotlib.pyplot as plt \n",
    "import seaborn as sns\n",
    "import scipy.stats \n",
    "from scipy.stats import zscore\n",
    "from scipy import stats \n",
    "from sklearn.impute import SimpleImputer\n",
    "from sklearn.model_selection import train_test_split, GridSearchCV,cross_val_score\n",
    "from sklearn.linear_model import LogisticRegression, Ridge, LinearRegression\n",
    "from sklearn.svm import SVC, SVR\n",
    "from sklearn.tree import DecisionTreeClassifier, DecisionTreeRegressor\n",
    "from sklearn.neighbors import KNeighborsClassifier\n",
    "from sklearn.metrics import accuracy_score,confusion_matrix,classification_report, roc_curve, roc_auc_score, r2_score\n",
    "from sklearn.ensemble import RandomForestClassifier, AdaBoostClassifier,RandomForestRegressor, GradientBoostingRegressor\n",
    "from sklearn.preprocessing import StandardScaler, MinMaxScaler\n",
    "from sklearn.metrics import mean_squared_error, mean_absolute_error\n",
    "import warnings\n",
    "warnings.filterwarnings('ignore')"
   ]
  },
  {
   "cell_type": "code",
   "execution_count": 2,
   "id": "c32b9aef",
   "metadata": {},
   "outputs": [],
   "source": [
    "df=pd.read_csv('https://raw.githubusercontent.com/dsrscientist/DSData/master/Advertising.csv')"
   ]
  },
  {
   "cell_type": "code",
   "execution_count": 3,
   "id": "5bff75f4",
   "metadata": {},
   "outputs": [
    {
     "data": {
      "text/html": [
       "<div>\n",
       "<style scoped>\n",
       "    .dataframe tbody tr th:only-of-type {\n",
       "        vertical-align: middle;\n",
       "    }\n",
       "\n",
       "    .dataframe tbody tr th {\n",
       "        vertical-align: top;\n",
       "    }\n",
       "\n",
       "    .dataframe thead th {\n",
       "        text-align: right;\n",
       "    }\n",
       "</style>\n",
       "<table border=\"1\" class=\"dataframe\">\n",
       "  <thead>\n",
       "    <tr style=\"text-align: right;\">\n",
       "      <th></th>\n",
       "      <th>Unnamed: 0</th>\n",
       "      <th>TV</th>\n",
       "      <th>radio</th>\n",
       "      <th>newspaper</th>\n",
       "      <th>sales</th>\n",
       "    </tr>\n",
       "  </thead>\n",
       "  <tbody>\n",
       "    <tr>\n",
       "      <th>0</th>\n",
       "      <td>1</td>\n",
       "      <td>230.1</td>\n",
       "      <td>37.8</td>\n",
       "      <td>69.2</td>\n",
       "      <td>22.1</td>\n",
       "    </tr>\n",
       "    <tr>\n",
       "      <th>1</th>\n",
       "      <td>2</td>\n",
       "      <td>44.5</td>\n",
       "      <td>39.3</td>\n",
       "      <td>45.1</td>\n",
       "      <td>10.4</td>\n",
       "    </tr>\n",
       "    <tr>\n",
       "      <th>2</th>\n",
       "      <td>3</td>\n",
       "      <td>17.2</td>\n",
       "      <td>45.9</td>\n",
       "      <td>69.3</td>\n",
       "      <td>9.3</td>\n",
       "    </tr>\n",
       "    <tr>\n",
       "      <th>3</th>\n",
       "      <td>4</td>\n",
       "      <td>151.5</td>\n",
       "      <td>41.3</td>\n",
       "      <td>58.5</td>\n",
       "      <td>18.5</td>\n",
       "    </tr>\n",
       "    <tr>\n",
       "      <th>4</th>\n",
       "      <td>5</td>\n",
       "      <td>180.8</td>\n",
       "      <td>10.8</td>\n",
       "      <td>58.4</td>\n",
       "      <td>12.9</td>\n",
       "    </tr>\n",
       "  </tbody>\n",
       "</table>\n",
       "</div>"
      ],
      "text/plain": [
       "   Unnamed: 0     TV  radio  newspaper  sales\n",
       "0           1  230.1   37.8       69.2   22.1\n",
       "1           2   44.5   39.3       45.1   10.4\n",
       "2           3   17.2   45.9       69.3    9.3\n",
       "3           4  151.5   41.3       58.5   18.5\n",
       "4           5  180.8   10.8       58.4   12.9"
      ]
     },
     "execution_count": 3,
     "metadata": {},
     "output_type": "execute_result"
    }
   ],
   "source": [
    "df.head()"
   ]
  },
  {
   "cell_type": "code",
   "execution_count": 4,
   "id": "e1bc40f9",
   "metadata": {},
   "outputs": [
    {
     "name": "stdout",
     "output_type": "stream",
     "text": [
      "<class 'pandas.core.frame.DataFrame'>\n",
      "RangeIndex: 200 entries, 0 to 199\n",
      "Data columns (total 5 columns):\n",
      " #   Column      Non-Null Count  Dtype  \n",
      "---  ------      --------------  -----  \n",
      " 0   Unnamed: 0  200 non-null    int64  \n",
      " 1   TV          200 non-null    float64\n",
      " 2   radio       200 non-null    float64\n",
      " 3   newspaper   200 non-null    float64\n",
      " 4   sales       200 non-null    float64\n",
      "dtypes: float64(4), int64(1)\n",
      "memory usage: 7.9 KB\n"
     ]
    }
   ],
   "source": [
    "df.info()"
   ]
  },
  {
   "cell_type": "code",
   "execution_count": 5,
   "id": "76efa397",
   "metadata": {},
   "outputs": [
    {
     "data": {
      "text/plain": [
       "Unnamed: 0    0\n",
       "TV            0\n",
       "radio         0\n",
       "newspaper     0\n",
       "sales         0\n",
       "dtype: int64"
      ]
     },
     "execution_count": 5,
     "metadata": {},
     "output_type": "execute_result"
    }
   ],
   "source": [
    "df.isnull().sum()"
   ]
  },
  {
   "cell_type": "code",
   "execution_count": 6,
   "id": "4dbaa597",
   "metadata": {},
   "outputs": [],
   "source": [
    "#There is no null values in data"
   ]
  },
  {
   "cell_type": "code",
   "execution_count": 7,
   "id": "5660edfc",
   "metadata": {},
   "outputs": [
    {
     "data": {
      "text/html": [
       "<div>\n",
       "<style scoped>\n",
       "    .dataframe tbody tr th:only-of-type {\n",
       "        vertical-align: middle;\n",
       "    }\n",
       "\n",
       "    .dataframe tbody tr th {\n",
       "        vertical-align: top;\n",
       "    }\n",
       "\n",
       "    .dataframe thead th {\n",
       "        text-align: right;\n",
       "    }\n",
       "</style>\n",
       "<table border=\"1\" class=\"dataframe\">\n",
       "  <thead>\n",
       "    <tr style=\"text-align: right;\">\n",
       "      <th></th>\n",
       "      <th>Unnamed: 0</th>\n",
       "      <th>TV</th>\n",
       "      <th>radio</th>\n",
       "      <th>newspaper</th>\n",
       "      <th>sales</th>\n",
       "    </tr>\n",
       "  </thead>\n",
       "  <tbody>\n",
       "    <tr>\n",
       "      <th>count</th>\n",
       "      <td>200.000000</td>\n",
       "      <td>200.000000</td>\n",
       "      <td>200.000000</td>\n",
       "      <td>200.000000</td>\n",
       "      <td>200.000000</td>\n",
       "    </tr>\n",
       "    <tr>\n",
       "      <th>mean</th>\n",
       "      <td>100.500000</td>\n",
       "      <td>147.042500</td>\n",
       "      <td>23.264000</td>\n",
       "      <td>30.554000</td>\n",
       "      <td>14.022500</td>\n",
       "    </tr>\n",
       "    <tr>\n",
       "      <th>std</th>\n",
       "      <td>57.879185</td>\n",
       "      <td>85.854236</td>\n",
       "      <td>14.846809</td>\n",
       "      <td>21.778621</td>\n",
       "      <td>5.217457</td>\n",
       "    </tr>\n",
       "    <tr>\n",
       "      <th>min</th>\n",
       "      <td>1.000000</td>\n",
       "      <td>0.700000</td>\n",
       "      <td>0.000000</td>\n",
       "      <td>0.300000</td>\n",
       "      <td>1.600000</td>\n",
       "    </tr>\n",
       "    <tr>\n",
       "      <th>25%</th>\n",
       "      <td>50.750000</td>\n",
       "      <td>74.375000</td>\n",
       "      <td>9.975000</td>\n",
       "      <td>12.750000</td>\n",
       "      <td>10.375000</td>\n",
       "    </tr>\n",
       "    <tr>\n",
       "      <th>50%</th>\n",
       "      <td>100.500000</td>\n",
       "      <td>149.750000</td>\n",
       "      <td>22.900000</td>\n",
       "      <td>25.750000</td>\n",
       "      <td>12.900000</td>\n",
       "    </tr>\n",
       "    <tr>\n",
       "      <th>75%</th>\n",
       "      <td>150.250000</td>\n",
       "      <td>218.825000</td>\n",
       "      <td>36.525000</td>\n",
       "      <td>45.100000</td>\n",
       "      <td>17.400000</td>\n",
       "    </tr>\n",
       "    <tr>\n",
       "      <th>max</th>\n",
       "      <td>200.000000</td>\n",
       "      <td>296.400000</td>\n",
       "      <td>49.600000</td>\n",
       "      <td>114.000000</td>\n",
       "      <td>27.000000</td>\n",
       "    </tr>\n",
       "  </tbody>\n",
       "</table>\n",
       "</div>"
      ],
      "text/plain": [
       "       Unnamed: 0          TV       radio   newspaper       sales\n",
       "count  200.000000  200.000000  200.000000  200.000000  200.000000\n",
       "mean   100.500000  147.042500   23.264000   30.554000   14.022500\n",
       "std     57.879185   85.854236   14.846809   21.778621    5.217457\n",
       "min      1.000000    0.700000    0.000000    0.300000    1.600000\n",
       "25%     50.750000   74.375000    9.975000   12.750000   10.375000\n",
       "50%    100.500000  149.750000   22.900000   25.750000   12.900000\n",
       "75%    150.250000  218.825000   36.525000   45.100000   17.400000\n",
       "max    200.000000  296.400000   49.600000  114.000000   27.000000"
      ]
     },
     "execution_count": 7,
     "metadata": {},
     "output_type": "execute_result"
    }
   ],
   "source": [
    "df.describe()"
   ]
  },
  {
   "cell_type": "code",
   "execution_count": 8,
   "id": "1c3a30b3",
   "metadata": {},
   "outputs": [
    {
     "data": {
      "text/plain": [
       "False    199\n",
       "True       1\n",
       "Name: radio, dtype: int64"
      ]
     },
     "execution_count": 8,
     "metadata": {},
     "output_type": "execute_result"
    }
   ],
   "source": [
    "(df[\"radio\"]==0).value_counts()"
   ]
  },
  {
   "cell_type": "code",
   "execution_count": 9,
   "id": "067f6106",
   "metadata": {},
   "outputs": [
    {
     "data": {
      "text/html": [
       "<div>\n",
       "<style scoped>\n",
       "    .dataframe tbody tr th:only-of-type {\n",
       "        vertical-align: middle;\n",
       "    }\n",
       "\n",
       "    .dataframe tbody tr th {\n",
       "        vertical-align: top;\n",
       "    }\n",
       "\n",
       "    .dataframe thead th {\n",
       "        text-align: right;\n",
       "    }\n",
       "</style>\n",
       "<table border=\"1\" class=\"dataframe\">\n",
       "  <thead>\n",
       "    <tr style=\"text-align: right;\">\n",
       "      <th></th>\n",
       "      <th>Unnamed: 0</th>\n",
       "      <th>TV</th>\n",
       "      <th>radio</th>\n",
       "      <th>newspaper</th>\n",
       "      <th>sales</th>\n",
       "    </tr>\n",
       "  </thead>\n",
       "  <tbody>\n",
       "    <tr>\n",
       "      <th>127</th>\n",
       "      <td>128</td>\n",
       "      <td>80.2</td>\n",
       "      <td>0.0</td>\n",
       "      <td>9.2</td>\n",
       "      <td>8.8</td>\n",
       "    </tr>\n",
       "  </tbody>\n",
       "</table>\n",
       "</div>"
      ],
      "text/plain": [
       "     Unnamed: 0    TV  radio  newspaper  sales\n",
       "127         128  80.2    0.0        9.2    8.8"
      ]
     },
     "execution_count": 9,
     "metadata": {},
     "output_type": "execute_result"
    }
   ],
   "source": [
    "df.loc[df[\"radio\"]==0]"
   ]
  },
  {
   "cell_type": "code",
   "execution_count": 10,
   "id": "a687cc76",
   "metadata": {},
   "outputs": [],
   "source": [
    "#Exploratory Analysis"
   ]
  },
  {
   "cell_type": "code",
   "execution_count": 11,
   "id": "8acbf0de",
   "metadata": {},
   "outputs": [],
   "source": [
    "corr=df.corr()"
   ]
  },
  {
   "cell_type": "code",
   "execution_count": 12,
   "id": "288cb504",
   "metadata": {},
   "outputs": [
    {
     "name": "stdout",
     "output_type": "stream",
     "text": [
      "            Unnamed: 0        TV     radio  newspaper     sales\n",
      "Unnamed: 0    1.000000  0.017715 -0.110680  -0.154944 -0.051616\n",
      "TV            0.017715  1.000000  0.054809   0.056648  0.782224\n",
      "radio        -0.110680  0.054809  1.000000   0.354104  0.576223\n",
      "newspaper    -0.154944  0.056648  0.354104   1.000000  0.228299\n",
      "sales        -0.051616  0.782224  0.576223   0.228299  1.000000\n"
     ]
    },
    {
     "data": {
      "text/plain": [
       "<AxesSubplot:>"
      ]
     },
     "execution_count": 12,
     "metadata": {},
     "output_type": "execute_result"
    },
    {
     "data": {
      "image/png": "[encoded data removed]",
      "text/plain": [
       "<Figure size 432x288 with 2 Axes>"
      ]
     },
     "metadata": {
      "needs_background": "light"
     },
     "output_type": "display_data"
    }
   ],
   "source": [
    "print(corr)\n",
    "sns.heatmap(corr, cmap=\"twilight\", annot=True, linewidth=0.3)"
   ]
  },
  {
   "cell_type": "code",
   "execution_count": 13,
   "id": "c6079915",
   "metadata": {},
   "outputs": [],
   "source": [
    "#It can be noticed Sales is highly correlated with TV advertisments and there is a very less effect of newspaper ads on Sales"
   ]
  },
  {
   "cell_type": "code",
   "execution_count": 14,
   "id": "63d14c93",
   "metadata": {},
   "outputs": [
    {
     "data": {
      "text/plain": [
       "<matplotlib.collections.PathCollection at 0x23e8d758640>"
      ]
     },
     "execution_count": 14,
     "metadata": {},
     "output_type": "execute_result"
    },
    {
     "data": {
      "image/png": "[encoded data removed]",
      "text/plain": [
       "<Figure size 432x288 with 1 Axes>"
      ]
     },
     "metadata": {
      "needs_background": "light"
     },
     "output_type": "display_data"
    }
   ],
   "source": [
    "plt.scatter(x = 'sales', y = 'TV', data = df,c='g')"
   ]
  },
  {
   "cell_type": "code",
   "execution_count": 15,
   "id": "879d6b62",
   "metadata": {},
   "outputs": [],
   "source": [
    "#We can see count of 25 TV ads sales going upto 300"
   ]
  },
  {
   "cell_type": "code",
   "execution_count": 16,
   "id": "2bb09a57",
   "metadata": {},
   "outputs": [
    {
     "data": {
      "text/plain": [
       "<matplotlib.collections.PathCollection at 0x23e8d7c5f40>"
      ]
     },
     "execution_count": 16,
     "metadata": {},
     "output_type": "execute_result"
    },
    {
     "data": {
      "image/png": "[encoded data removed]",
      "text/plain": [
       "<Figure size 432x288 with 1 Axes>"
      ]
     },
     "metadata": {
      "needs_background": "light"
     },
     "output_type": "display_data"
    }
   ],
   "source": [
    "plt.scatter(x = 'sales', y = 'radio', data = df,c='r')"
   ]
  },
  {
   "cell_type": "code",
   "execution_count": 17,
   "id": "97105bf4",
   "metadata": {},
   "outputs": [
    {
     "data": {
      "text/plain": [
       "<matplotlib.collections.PathCollection at 0x23e8d829fa0>"
      ]
     },
     "execution_count": 17,
     "metadata": {},
     "output_type": "execute_result"
    },
    {
     "data": {
      "image/png": "[encoded data removed]",
      "text/plain": [
       "<Figure size 432x288 with 1 Axes>"
      ]
     },
     "metadata": {
      "needs_background": "light"
     },
     "output_type": "display_data"
    }
   ],
   "source": [
    "plt.scatter(x = 'sales', y = 'newspaper', data = df,c='b')"
   ]
  },
  {
   "cell_type": "code",
   "execution_count": 18,
   "id": "cd1f1090",
   "metadata": {},
   "outputs": [],
   "source": [
    "#If we focus on TV Advertisement more we can get more sales"
   ]
  },
  {
   "cell_type": "code",
   "execution_count": 19,
   "id": "ac20e6c8",
   "metadata": {},
   "outputs": [],
   "source": [
    "#Checking outliers"
   ]
  },
  {
   "cell_type": "code",
   "execution_count": 20,
   "id": "8ba7483a",
   "metadata": {},
   "outputs": [
    {
     "data": {
      "image/png": "[encoded data removed]",
      "text/plain": [
       "<Figure size 720x360 with 5 Axes>"
      ]
     },
     "metadata": {
      "needs_background": "light"
     },
     "output_type": "display_data"
    }
   ],
   "source": [
    "plt.figure(figsize=(10,5))\n",
    "for o in enumerate(df):\n",
    "    plt.subplot(3,3,o[0]+1)\n",
    "    sns.boxplot(df[o[1]])"
   ]
  },
  {
   "cell_type": "code",
   "execution_count": 21,
   "id": "4078fbd7",
   "metadata": {},
   "outputs": [],
   "source": [
    "#We are having outliers in \"newspaper\" column"
   ]
  },
  {
   "cell_type": "code",
   "execution_count": 22,
   "id": "83141322",
   "metadata": {},
   "outputs": [],
   "source": [
    "#Removal of outliers"
   ]
  },
  {
   "cell_type": "code",
   "execution_count": 23,
   "id": "cb3c467b",
   "metadata": {},
   "outputs": [
    {
     "name": "stdout",
     "output_type": "stream",
     "text": [
      "(array([ 16, 101], dtype=int64), array([3, 3], dtype=int64))\n"
     ]
    }
   ],
   "source": [
    "#ZSCORE METHOD\n",
    "\n",
    "z=np.abs(zscore(df))\n",
    "\n",
    "print(np.where(z>3))"
   ]
  },
  {
   "cell_type": "code",
   "execution_count": 24,
   "id": "020dd0b8",
   "metadata": {},
   "outputs": [
    {
     "name": "stdout",
     "output_type": "stream",
     "text": [
      "with outliers:: (200, 5)\n",
      "After removing outliers:: (198, 5)\n"
     ]
    }
   ],
   "source": [
    "df_1=df[(z<3).all(axis=1)]\n",
    "print(\"with outliers::\",df.shape)\n",
    "print(\"After removing outliers::\",df_1.shape)"
   ]
  },
  {
   "cell_type": "code",
   "execution_count": 25,
   "id": "e3d8c44e",
   "metadata": {},
   "outputs": [
    {
     "data": {
      "text/plain": [
       "76.22500000000001"
      ]
     },
     "execution_count": 25,
     "metadata": {},
     "output_type": "execute_result"
    }
   ],
   "source": [
    "#IQR METHOD\n",
    "IQR = stats.iqr(df) \n",
    "IQR "
   ]
  },
  {
   "cell_type": "code",
   "execution_count": 26,
   "id": "6ea03a32",
   "metadata": {},
   "outputs": [],
   "source": [
    "Q1 = df.quantile(0.25)\n",
    "Q3 = df.quantile(0.75)"
   ]
  },
  {
   "cell_type": "code",
   "execution_count": 27,
   "id": "afd0b6f3",
   "metadata": {},
   "outputs": [
    {
     "name": "stdout",
     "output_type": "stream",
     "text": [
      "(200, 5)\n"
     ]
    }
   ],
   "source": [
    "df_out = df[~((df < (Q1 - 1.5 * IQR)) |(df > (Q3 + 1.5 * IQR))).any(axis=1)]\n",
    "print(df_out.shape)"
   ]
  },
  {
   "cell_type": "code",
   "execution_count": 28,
   "id": "0ad9b0a1",
   "metadata": {},
   "outputs": [],
   "source": [
    "#Using IQR method for outliers removal there is huge data loss so considering ZSCORE METHOD"
   ]
  },
  {
   "cell_type": "code",
   "execution_count": 29,
   "id": "9fbc5562",
   "metadata": {},
   "outputs": [],
   "source": [
    "df=df_1"
   ]
  },
  {
   "cell_type": "code",
   "execution_count": 30,
   "id": "b1e035c7",
   "metadata": {},
   "outputs": [
    {
     "data": {
      "text/plain": [
       "(198, 5)"
      ]
     },
     "execution_count": 30,
     "metadata": {},
     "output_type": "execute_result"
    }
   ],
   "source": [
    "df.shape"
   ]
  },
  {
   "cell_type": "code",
   "execution_count": 31,
   "id": "25e4c2e0",
   "metadata": {},
   "outputs": [
    {
     "data": {
      "text/plain": [
       "{'whiskers': [<matplotlib.lines.Line2D at 0x23e8da8e3d0>,\n",
       "  <matplotlib.lines.Line2D at 0x23e8da74f70>],\n",
       " 'caps': [<matplotlib.lines.Line2D at 0x23e8da8e9d0>,\n",
       "  <matplotlib.lines.Line2D at 0x23e8da8ed60>],\n",
       " 'boxes': [<matplotlib.lines.Line2D at 0x23e8da8e040>],\n",
       " 'medians': [<matplotlib.lines.Line2D at 0x23e8da9b130>],\n",
       " 'fliers': [<matplotlib.lines.Line2D at 0x23e8da9b4c0>],\n",
       " 'means': []}"
      ]
     },
     "execution_count": 31,
     "metadata": {},
     "output_type": "execute_result"
    },
    {
     "data": {
      "image/png": "[encoded data removed]",
      "text/plain": [
       "<Figure size 432x288 with 1 Axes>"
      ]
     },
     "metadata": {
      "needs_background": "light"
     },
     "output_type": "display_data"
    }
   ],
   "source": [
    "plt.boxplot(df['newspaper'])"
   ]
  },
  {
   "cell_type": "code",
   "execution_count": 32,
   "id": "e380bb11",
   "metadata": {},
   "outputs": [],
   "source": [
    "# Checking for skewness"
   ]
  },
  {
   "cell_type": "code",
   "execution_count": 33,
   "id": "86f6dd8a",
   "metadata": {},
   "outputs": [
    {
     "data": {
      "text/plain": [
       "Unnamed: 0   -0.006283\n",
       "TV           -0.082332\n",
       "radio         0.114842\n",
       "newspaper     0.650112\n",
       "sales         0.407130\n",
       "dtype: float64"
      ]
     },
     "execution_count": 33,
     "metadata": {},
     "output_type": "execute_result"
    }
   ],
   "source": [
    "df.skew()"
   ]
  },
  {
   "cell_type": "code",
   "execution_count": 34,
   "id": "b3991bc1",
   "metadata": {},
   "outputs": [],
   "source": [
    "#There is skewness in newspaper columns"
   ]
  },
  {
   "cell_type": "code",
   "execution_count": 35,
   "id": "ce0d8552",
   "metadata": {},
   "outputs": [],
   "source": [
    "#Removing Skewness\n",
    "df['newspaper']=np.sqrt(df['newspaper'])"
   ]
  },
  {
   "cell_type": "code",
   "execution_count": 36,
   "id": "d0f6199b",
   "metadata": {},
   "outputs": [
    {
     "data": {
      "text/plain": [
       "Unnamed: 0   -0.006283\n",
       "TV           -0.082332\n",
       "radio         0.114842\n",
       "newspaper    -0.040649\n",
       "sales         0.407130\n",
       "dtype: float64"
      ]
     },
     "execution_count": 36,
     "metadata": {},
     "output_type": "execute_result"
    }
   ],
   "source": [
    "df.skew()"
   ]
  },
  {
   "cell_type": "code",
   "execution_count": 37,
   "id": "8944c1a9",
   "metadata": {},
   "outputs": [],
   "source": [
    "x=df.drop(['sales'],axis=1)\n",
    "y=df['sales']"
   ]
  },
  {
   "cell_type": "code",
   "execution_count": 38,
   "id": "699cb1e1",
   "metadata": {},
   "outputs": [
    {
     "name": "stdout",
     "output_type": "stream",
     "text": [
      "(198, 4)\n",
      "(198,)\n"
     ]
    }
   ],
   "source": [
    "print(x.shape)\n",
    "print(y.shape)"
   ]
  },
  {
   "cell_type": "code",
   "execution_count": 39,
   "id": "949bff8c",
   "metadata": {},
   "outputs": [],
   "source": [
    "#Scalling the data\n",
    "\n",
    "sc=MinMaxScaler()\n",
    "x=sc.fit_transform(x)"
   ]
  },
  {
   "cell_type": "code",
   "execution_count": 40,
   "id": "0df6a1c0",
   "metadata": {},
   "outputs": [
    {
     "data": {
      "text/html": [
       "<div>\n",
       "<style scoped>\n",
       "    .dataframe tbody tr th:only-of-type {\n",
       "        vertical-align: middle;\n",
       "    }\n",
       "\n",
       "    .dataframe tbody tr th {\n",
       "        vertical-align: top;\n",
       "    }\n",
       "\n",
       "    .dataframe thead th {\n",
       "        text-align: right;\n",
       "    }\n",
       "</style>\n",
       "<table border=\"1\" class=\"dataframe\">\n",
       "  <thead>\n",
       "    <tr style=\"text-align: right;\">\n",
       "      <th></th>\n",
       "      <th>0</th>\n",
       "      <th>1</th>\n",
       "      <th>2</th>\n",
       "      <th>3</th>\n",
       "    </tr>\n",
       "  </thead>\n",
       "  <tbody>\n",
       "    <tr>\n",
       "      <th>count</th>\n",
       "      <td>198.000000</td>\n",
       "      <td>198.000000</td>\n",
       "      <td>198.000000</td>\n",
       "      <td>198.000000</td>\n",
       "    </tr>\n",
       "    <tr>\n",
       "      <th>mean</th>\n",
       "      <td>0.502081</td>\n",
       "      <td>0.498424</td>\n",
       "      <td>0.466347</td>\n",
       "      <td>0.509620</td>\n",
       "    </tr>\n",
       "    <tr>\n",
       "      <th>std</th>\n",
       "      <td>0.290782</td>\n",
       "      <td>0.291715</td>\n",
       "      <td>0.299639</td>\n",
       "      <td>0.222222</td>\n",
       "    </tr>\n",
       "    <tr>\n",
       "      <th>min</th>\n",
       "      <td>0.000000</td>\n",
       "      <td>0.000000</td>\n",
       "      <td>0.000000</td>\n",
       "      <td>0.000000</td>\n",
       "    </tr>\n",
       "    <tr>\n",
       "      <th>25%</th>\n",
       "      <td>0.252513</td>\n",
       "      <td>0.252987</td>\n",
       "      <td>0.200101</td>\n",
       "      <td>0.337801</td>\n",
       "    </tr>\n",
       "    <tr>\n",
       "      <th>50%</th>\n",
       "      <td>0.500000</td>\n",
       "      <td>0.508877</td>\n",
       "      <td>0.451613</td>\n",
       "      <td>0.506534</td>\n",
       "    </tr>\n",
       "    <tr>\n",
       "      <th>75%</th>\n",
       "      <td>0.752513</td>\n",
       "      <td>0.743513</td>\n",
       "      <td>0.732359</td>\n",
       "      <td>0.683610</td>\n",
       "    </tr>\n",
       "    <tr>\n",
       "      <th>max</th>\n",
       "      <td>1.000000</td>\n",
       "      <td>1.000000</td>\n",
       "      <td>1.000000</td>\n",
       "      <td>1.000000</td>\n",
       "    </tr>\n",
       "  </tbody>\n",
       "</table>\n",
       "</div>"
      ],
      "text/plain": [
       "                0           1           2           3\n",
       "count  198.000000  198.000000  198.000000  198.000000\n",
       "mean     0.502081    0.498424    0.466347    0.509620\n",
       "std      0.290782    0.291715    0.299639    0.222222\n",
       "min      0.000000    0.000000    0.000000    0.000000\n",
       "25%      0.252513    0.252987    0.200101    0.337801\n",
       "50%      0.500000    0.508877    0.451613    0.506534\n",
       "75%      0.752513    0.743513    0.732359    0.683610\n",
       "max      1.000000    1.000000    1.000000    1.000000"
      ]
     },
     "execution_count": 40,
     "metadata": {},
     "output_type": "execute_result"
    }
   ],
   "source": [
    "pd.DataFrame(x).describe()"
   ]
  },
  {
   "cell_type": "code",
   "execution_count": 41,
   "id": "a59f819e",
   "metadata": {},
   "outputs": [
    {
     "data": {
      "text/plain": [
       "(198, 4)"
      ]
     },
     "execution_count": 41,
     "metadata": {},
     "output_type": "execute_result"
    }
   ],
   "source": [
    "x.shape"
   ]
  },
  {
   "cell_type": "code",
   "execution_count": 42,
   "id": "303ee37b",
   "metadata": {},
   "outputs": [],
   "source": [
    "#Model Building"
   ]
  },
  {
   "cell_type": "code",
   "execution_count": 43,
   "id": "3c917a0b",
   "metadata": {},
   "outputs": [
    {
     "name": "stdout",
     "output_type": "stream",
     "text": [
      "At random state 0, The training accuracy is: 0.8902201116288775\n",
      "At random state 0, The test accuracy is: 0.909118691180519\n",
      "\n",
      "\n",
      "At random state 1, The training accuracy is: 0.8946233462304936\n",
      "At random state 1, The test accuracy is: 0.8899109208460371\n",
      "\n",
      "\n",
      "At random state 2, The training accuracy is: 0.91068263839584\n",
      "At random state 2, The test accuracy is: 0.8362279699320538\n",
      "\n",
      "\n",
      "At random state 3, The training accuracy is: 0.8948889012285308\n",
      "At random state 3, The test accuracy is: 0.8953602303589753\n",
      "\n",
      "\n",
      "At random state 4, The training accuracy is: 0.8980854079958381\n",
      "At random state 4, The test accuracy is: 0.8723874483009664\n",
      "\n",
      "\n",
      "At random state 5, The training accuracy is: 0.8994329682403984\n",
      "At random state 5, The test accuracy is: 0.8616441304474729\n",
      "\n",
      "\n",
      "At random state 6, The training accuracy is: 0.899322882220005\n",
      "At random state 6, The test accuracy is: 0.8761321856329721\n",
      "\n",
      "\n",
      "At random state 7, The training accuracy is: 0.8913924455946647\n",
      "At random state 7, The test accuracy is: 0.9042796251414146\n",
      "\n",
      "\n",
      "At random state 8, The training accuracy is: 0.9029179417606228\n",
      "At random state 8, The test accuracy is: 0.8628713309513844\n",
      "\n",
      "\n",
      "At random state 9, The training accuracy is: 0.8894473744386002\n",
      "At random state 9, The test accuracy is: 0.9152105811251214\n",
      "\n",
      "\n",
      "At random state 10, The training accuracy is: 0.923525744145433\n",
      "At random state 10, The test accuracy is: 0.7843844292046501\n",
      "\n",
      "\n",
      "At random state 11, The training accuracy is: 0.8848127574074589\n",
      "At random state 11, The test accuracy is: 0.926083704081809\n",
      "\n",
      "\n",
      "At random state 12, The training accuracy is: 0.8934388314278389\n",
      "At random state 12, The test accuracy is: 0.8990049975768882\n",
      "\n",
      "\n",
      "At random state 13, The training accuracy is: 0.9075893521777608\n",
      "At random state 13, The test accuracy is: 0.8338976293621423\n",
      "\n",
      "\n",
      "At random state 14, The training accuracy is: 0.885869613876182\n",
      "At random state 14, The test accuracy is: 0.9130561965719811\n",
      "\n",
      "\n",
      "At random state 15, The training accuracy is: 0.8919060366484233\n",
      "At random state 15, The test accuracy is: 0.9029774874591961\n",
      "\n",
      "\n",
      "At random state 16, The training accuracy is: 0.8904626025501723\n",
      "At random state 16, The test accuracy is: 0.9074460162849569\n",
      "\n",
      "\n",
      "At random state 17, The training accuracy is: 0.8886358083800934\n",
      "At random state 17, The test accuracy is: 0.9171991731920717\n",
      "\n",
      "\n",
      "At random state 18, The training accuracy is: 0.9106185755023624\n",
      "At random state 18, The test accuracy is: 0.8354054124374253\n",
      "\n",
      "\n",
      "At random state 19, The training accuracy is: 0.8951763470382199\n",
      "At random state 19, The test accuracy is: 0.8784207116124162\n",
      "\n",
      "\n",
      "At random state 20, The training accuracy is: 0.8872028233246332\n",
      "At random state 20, The test accuracy is: 0.9098637947814167\n",
      "\n",
      "\n",
      "At random state 21, The training accuracy is: 0.8851343805143171\n",
      "At random state 21, The test accuracy is: 0.9247191518155375\n",
      "\n",
      "\n",
      "At random state 22, The training accuracy is: 0.8866230876267939\n",
      "At random state 22, The test accuracy is: 0.925024105583116\n",
      "\n",
      "\n",
      "At random state 23, The training accuracy is: 0.8848554282020417\n",
      "At random state 23, The test accuracy is: 0.9293037827061835\n",
      "\n",
      "\n",
      "At random state 24, The training accuracy is: 0.8808378855687771\n",
      "At random state 24, The test accuracy is: 0.9465541450437411\n",
      "\n",
      "\n",
      "At random state 25, The training accuracy is: 0.8828862123262488\n",
      "At random state 25, The test accuracy is: 0.9375827433912783\n",
      "\n",
      "\n",
      "At random state 26, The training accuracy is: 0.9048583700570527\n",
      "At random state 26, The test accuracy is: 0.8203627714207726\n",
      "\n",
      "\n",
      "At random state 27, The training accuracy is: 0.9095826092853152\n",
      "At random state 27, The test accuracy is: 0.8215023293110955\n",
      "\n",
      "\n",
      "At random state 28, The training accuracy is: 0.9151750891476708\n",
      "At random state 28, The test accuracy is: 0.822487990629976\n",
      "\n",
      "\n",
      "At random state 29, The training accuracy is: 0.9080135032616637\n",
      "At random state 29, The test accuracy is: 0.8429256188968682\n",
      "\n",
      "\n",
      "At random state 30, The training accuracy is: 0.9124881969086897\n",
      "At random state 30, The test accuracy is: 0.8253456046114563\n",
      "\n",
      "\n",
      "At random state 31, The training accuracy is: 0.8816352052667925\n",
      "At random state 31, The test accuracy is: 0.927684269690257\n",
      "\n",
      "\n",
      "At random state 32, The training accuracy is: 0.887935721611642\n",
      "At random state 32, The test accuracy is: 0.9174970536095614\n",
      "\n",
      "\n",
      "At random state 33, The training accuracy is: 0.8885275738591422\n",
      "At random state 33, The test accuracy is: 0.9136123563935584\n",
      "\n",
      "\n",
      "At random state 34, The training accuracy is: 0.8966850555714293\n",
      "At random state 34, The test accuracy is: 0.8799622605174104\n",
      "\n",
      "\n",
      "At random state 35, The training accuracy is: 0.890343693084252\n",
      "At random state 35, The test accuracy is: 0.9148012804489994\n",
      "\n",
      "\n",
      "At random state 36, The training accuracy is: 0.8901279493671096\n",
      "At random state 36, The test accuracy is: 0.907886524367824\n",
      "\n",
      "\n",
      "At random state 37, The training accuracy is: 0.8932666569861619\n",
      "At random state 37, The test accuracy is: 0.9046689392606823\n",
      "\n",
      "\n",
      "At random state 38, The training accuracy is: 0.8898002425458917\n",
      "At random state 38, The test accuracy is: 0.9172047602456013\n",
      "\n",
      "\n",
      "At random state 39, The training accuracy is: 0.9039665609967467\n",
      "At random state 39, The test accuracy is: 0.8535507478361621\n",
      "\n",
      "\n",
      "At random state 40, The training accuracy is: 0.8939582318682633\n",
      "At random state 40, The test accuracy is: 0.89300977472642\n",
      "\n",
      "\n",
      "At random state 41, The training accuracy is: 0.8989212869782743\n",
      "At random state 41, The test accuracy is: 0.8665048422479286\n",
      "\n",
      "\n",
      "At random state 42, The training accuracy is: 0.8939550782867769\n",
      "At random state 42, The test accuracy is: 0.8974546262666346\n",
      "\n",
      "\n",
      "At random state 43, The training accuracy is: 0.9001722055207836\n",
      "At random state 43, The test accuracy is: 0.8754126235919628\n",
      "\n",
      "\n",
      "At random state 44, The training accuracy is: 0.9029554413497135\n",
      "At random state 44, The test accuracy is: 0.8128573842139792\n",
      "\n",
      "\n",
      "At random state 45, The training accuracy is: 0.8982343652056245\n",
      "At random state 45, The test accuracy is: 0.8668528974269132\n",
      "\n",
      "\n",
      "At random state 46, The training accuracy is: 0.8991174833107576\n",
      "At random state 46, The test accuracy is: 0.8745283306220921\n",
      "\n",
      "\n",
      "At random state 47, The training accuracy is: 0.8950299617593337\n",
      "At random state 47, The test accuracy is: 0.89149312041122\n",
      "\n",
      "\n",
      "At random state 48, The training accuracy is: 0.9015917850060556\n",
      "At random state 48, The test accuracy is: 0.8676541654330303\n",
      "\n",
      "\n",
      "At random state 49, The training accuracy is: 0.9105777222284417\n",
      "At random state 49, The test accuracy is: 0.8345568845829374\n",
      "\n",
      "\n",
      "At random state 50, The training accuracy is: 0.9014927345167122\n",
      "At random state 50, The test accuracy is: 0.8376919996812358\n",
      "\n",
      "\n",
      "At random state 51, The training accuracy is: 0.8940073814182758\n",
      "At random state 51, The test accuracy is: 0.8849573358911345\n",
      "\n",
      "\n",
      "At random state 52, The training accuracy is: 0.894753545947988\n",
      "At random state 52, The test accuracy is: 0.892423262556347\n",
      "\n",
      "\n",
      "At random state 53, The training accuracy is: 0.9052380849299337\n",
      "At random state 53, The test accuracy is: 0.8507773840357609\n",
      "\n",
      "\n",
      "At random state 54, The training accuracy is: 0.8982211917507062\n",
      "At random state 54, The test accuracy is: 0.8776027915773802\n",
      "\n",
      "\n",
      "At random state 55, The training accuracy is: 0.8931994147879666\n",
      "At random state 55, The test accuracy is: 0.8986831876274187\n",
      "\n",
      "\n",
      "At random state 56, The training accuracy is: 0.9060806667785715\n",
      "At random state 56, The test accuracy is: 0.8446665192796069\n",
      "\n",
      "\n",
      "At random state 57, The training accuracy is: 0.9031047544890973\n",
      "At random state 57, The test accuracy is: 0.8643710019649096\n",
      "\n",
      "\n",
      "At random state 58, The training accuracy is: 0.8828971859603341\n",
      "At random state 58, The test accuracy is: 0.9222686919077807\n",
      "\n",
      "\n",
      "At random state 59, The training accuracy is: 0.8874617323976948\n",
      "At random state 59, The test accuracy is: 0.9176982448625326\n",
      "\n",
      "\n",
      "At random state 60, The training accuracy is: 0.8983958583342869\n",
      "At random state 60, The test accuracy is: 0.8825694003954323\n",
      "\n",
      "\n",
      "At random state 61, The training accuracy is: 0.9043999956570774\n",
      "At random state 61, The test accuracy is: 0.8537369695250526\n",
      "\n",
      "\n",
      "At random state 62, The training accuracy is: 0.9010081486414885\n",
      "At random state 62, The test accuracy is: 0.8532895405420677\n",
      "\n",
      "\n",
      "At random state 63, The training accuracy is: 0.8940436197259695\n",
      "At random state 63, The test accuracy is: 0.8964723268961651\n",
      "\n",
      "\n",
      "At random state 64, The training accuracy is: 0.8861837520201334\n",
      "At random state 64, The test accuracy is: 0.9264473550505801\n",
      "\n",
      "\n",
      "At random state 65, The training accuracy is: 0.8989675599102219\n",
      "At random state 65, The test accuracy is: 0.8767787614077847\n",
      "\n",
      "\n",
      "At random state 66, The training accuracy is: 0.9001825912154586\n",
      "At random state 66, The test accuracy is: 0.8753618299622313\n",
      "\n",
      "\n",
      "At random state 67, The training accuracy is: 0.8915178713781386\n",
      "At random state 67, The test accuracy is: 0.9054929169952879\n",
      "\n",
      "\n",
      "At random state 68, The training accuracy is: 0.9028863892681116\n",
      "At random state 68, The test accuracy is: 0.8634638843561627\n",
      "\n",
      "\n",
      "At random state 69, The training accuracy is: 0.8915702482396212\n",
      "At random state 69, The test accuracy is: 0.9046856711668337\n",
      "\n",
      "\n",
      "At random state 70, The training accuracy is: 0.8834932001035013\n",
      "At random state 70, The test accuracy is: 0.9230446646545098\n",
      "\n",
      "\n",
      "At random state 71, The training accuracy is: 0.9096991027680715\n",
      "At random state 71, The test accuracy is: 0.8053380921314175\n",
      "\n",
      "\n",
      "At random state 72, The training accuracy is: 0.8879190433238503\n",
      "At random state 72, The test accuracy is: 0.9202689705938182\n",
      "\n",
      "\n",
      "At random state 73, The training accuracy is: 0.8961075565271419\n",
      "At random state 73, The test accuracy is: 0.884912021388185\n",
      "\n",
      "\n",
      "At random state 74, The training accuracy is: 0.8738808052682134\n",
      "At random state 74, The test accuracy is: 0.9303189393381076\n",
      "\n",
      "\n",
      "At random state 75, The training accuracy is: 0.8954905077617985\n",
      "At random state 75, The test accuracy is: 0.8754257596141014\n",
      "\n",
      "\n",
      "At random state 76, The training accuracy is: 0.9040301865326299\n",
      "At random state 76, The test accuracy is: 0.8510271364799615\n",
      "\n",
      "\n",
      "At random state 77, The training accuracy is: 0.8890781403883291\n",
      "At random state 77, The test accuracy is: 0.9162790331694931\n",
      "\n",
      "\n",
      "At random state 78, The training accuracy is: 0.9138065803288559\n",
      "At random state 78, The test accuracy is: 0.7883223278076967\n",
      "\n",
      "\n",
      "At random state 79, The training accuracy is: 0.8920255814957998\n",
      "At random state 79, The test accuracy is: 0.9001928303453919\n",
      "\n",
      "\n",
      "At random state 80, The training accuracy is: 0.8929893546935076\n",
      "At random state 80, The test accuracy is: 0.902101129039267\n",
      "\n",
      "\n",
      "At random state 81, The training accuracy is: 0.8885218202110714\n",
      "At random state 81, The test accuracy is: 0.9160557571634499\n",
      "\n",
      "\n",
      "At random state 82, The training accuracy is: 0.9088537990597889\n",
      "At random state 82, The test accuracy is: 0.8402534570649475\n",
      "\n",
      "\n",
      "At random state 83, The training accuracy is: 0.9004853531300326\n",
      "At random state 83, The test accuracy is: 0.8790763731535773\n",
      "\n",
      "\n",
      "At random state 84, The training accuracy is: 0.883843899561244\n",
      "At random state 84, The test accuracy is: 0.9280980347929397\n",
      "\n",
      "\n",
      "At random state 85, The training accuracy is: 0.9132212492637419\n",
      "At random state 85, The test accuracy is: 0.769809411169533\n",
      "\n",
      "\n",
      "At random state 86, The training accuracy is: 0.8931970204721966\n",
      "At random state 86, The test accuracy is: 0.900026902827151\n",
      "\n",
      "\n",
      "At random state 87, The training accuracy is: 0.9138407008618735\n",
      "At random state 87, The test accuracy is: 0.8103119147667933\n",
      "\n",
      "\n",
      "At random state 88, The training accuracy is: 0.8973730370940802\n",
      "At random state 88, The test accuracy is: 0.8827840703488505\n",
      "\n",
      "\n",
      "At random state 89, The training accuracy is: 0.9036844611295393\n",
      "At random state 89, The test accuracy is: 0.841958703024161\n",
      "\n",
      "\n",
      "At random state 90, The training accuracy is: 0.879312336627883\n",
      "At random state 90, The test accuracy is: 0.9467687522001026\n",
      "\n",
      "\n",
      "At random state 91, The training accuracy is: 0.8927493056050576\n",
      "At random state 91, The test accuracy is: 0.8971982154227525\n",
      "\n",
      "\n",
      "At random state 92, The training accuracy is: 0.8943650308771125\n",
      "At random state 92, The test accuracy is: 0.8897436687784521\n",
      "\n",
      "\n",
      "At random state 93, The training accuracy is: 0.9082799142378257\n",
      "At random state 93, The test accuracy is: 0.8429620904507489\n",
      "\n",
      "\n",
      "At random state 94, The training accuracy is: 0.9037439737231876\n",
      "At random state 94, The test accuracy is: 0.8653747075181446\n",
      "\n",
      "\n",
      "At random state 95, The training accuracy is: 0.9082026154482823\n",
      "At random state 95, The test accuracy is: 0.8471747270058472\n",
      "\n",
      "\n",
      "At random state 96, The training accuracy is: 0.9029997765684161\n",
      "At random state 96, The test accuracy is: 0.8526360051075585\n",
      "\n",
      "\n",
      "At random state 97, The training accuracy is: 0.8950307093820578\n",
      "At random state 97, The test accuracy is: 0.8926548163751853\n",
      "\n",
      "\n",
      "At random state 98, The training accuracy is: 0.9085792410286992\n",
      "At random state 98, The test accuracy is: 0.8393873160685095\n",
      "\n",
      "\n",
      "At random state 99, The training accuracy is: 0.8835063481851092\n",
      "At random state 99, The test accuracy is: 0.9289122427137432\n",
      "\n",
      "\n"
     ]
    }
   ],
   "source": [
    "#Linear Regression\n",
    "\n",
    "LR=LinearRegression()\n",
    "\n",
    "for i in range(0,100):\n",
    "    x_train,x_test,y_train,y_test=train_test_split(x,y,test_size=0.2,random_state=i)\n",
    "    LR.fit(x_train,y_train)\n",
    "    LR_predict_train=LR.predict(x_train)\n",
    "    LR_predict_test=LR.predict(x_test)\n",
    "    print(f'At random state {i}, The training accuracy is: {r2_score(y_train,LR_predict_train)}')\n",
    "    print(f'At random state {i}, The test accuracy is: {r2_score(y_test,LR_predict_test)}')\n",
    "    print('\\n')"
   ]
  },
  {
   "cell_type": "code",
   "execution_count": 44,
   "id": "6d1a4c7b",
   "metadata": {},
   "outputs": [],
   "source": [
    "#Random state=10 giving highest accuracy, choosing that as random state"
   ]
  },
  {
   "cell_type": "code",
   "execution_count": 45,
   "id": "5c2dd5f9",
   "metadata": {},
   "outputs": [],
   "source": [
    "# Splitting the data with random state = 10"
   ]
  },
  {
   "cell_type": "code",
   "execution_count": 46,
   "id": "e105eff2",
   "metadata": {},
   "outputs": [],
   "source": [
    "x_train,x_test,y_train,y_test=train_test_split(x,y,test_size=0.27,random_state=10)"
   ]
  },
  {
   "cell_type": "code",
   "execution_count": 47,
   "id": "6382f774",
   "metadata": {},
   "outputs": [
    {
     "data": {
      "text/plain": [
       "(144, 4)"
      ]
     },
     "execution_count": 47,
     "metadata": {},
     "output_type": "execute_result"
    }
   ],
   "source": [
    "x_train.shape"
   ]
  },
  {
   "cell_type": "code",
   "execution_count": 48,
   "id": "789eb513",
   "metadata": {},
   "outputs": [
    {
     "data": {
      "text/plain": [
       "(54, 4)"
      ]
     },
     "execution_count": 48,
     "metadata": {},
     "output_type": "execute_result"
    }
   ],
   "source": [
    "x_test.shape"
   ]
  },
  {
   "cell_type": "code",
   "execution_count": 49,
   "id": "070c378d",
   "metadata": {},
   "outputs": [
    {
     "data": {
      "text/plain": [
       "(144,)"
      ]
     },
     "execution_count": 49,
     "metadata": {},
     "output_type": "execute_result"
    }
   ],
   "source": [
    "y_train.shape"
   ]
  },
  {
   "cell_type": "code",
   "execution_count": 50,
   "id": "6f52cca5",
   "metadata": {},
   "outputs": [
    {
     "data": {
      "text/plain": [
       "(54,)"
      ]
     },
     "execution_count": 50,
     "metadata": {},
     "output_type": "execute_result"
    }
   ],
   "source": [
    "y_test.shape"
   ]
  },
  {
   "cell_type": "code",
   "execution_count": 51,
   "id": "c0ff63eb",
   "metadata": {},
   "outputs": [
    {
     "name": "stdout",
     "output_type": "stream",
     "text": [
      "0.9246705464811432\n"
     ]
    }
   ],
   "source": [
    "LR=LinearRegression()\n",
    "LR.fit(x_train,y_train)\n",
    "print(LR.score(x_train,y_train))\n",
    "LR_predict=LR.predict(x_test)"
   ]
  },
  {
   "cell_type": "code",
   "execution_count": 52,
   "id": "032c02a2",
   "metadata": {},
   "outputs": [
    {
     "name": "stdout",
     "output_type": "stream",
     "text": [
      "MSE: 5.310793035584608\n",
      "MAE: 1.6644290440468552\n",
      "r2_score: 0.7765274477578298\n"
     ]
    }
   ],
   "source": [
    "print('MSE:',mean_squared_error(LR_predict,y_test))\n",
    "print('MAE:',mean_absolute_error(LR_predict,y_test))\n",
    "print('r2_score:',r2_score(LR_predict,y_test))"
   ]
  },
  {
   "cell_type": "code",
   "execution_count": 53,
   "id": "fa92ec64",
   "metadata": {},
   "outputs": [
    {
     "name": "stdout",
     "output_type": "stream",
     "text": [
      "0.9197312993458817\n"
     ]
    }
   ],
   "source": [
    "#Ridge Regression \n",
    "R=Ridge()\n",
    "R.fit(x_train,y_train)\n",
    "print(R.score(x_train,y_train))\n",
    "R_predict=R.predict(x_test)"
   ]
  },
  {
   "cell_type": "code",
   "execution_count": 54,
   "id": "c108e9e7",
   "metadata": {},
   "outputs": [
    {
     "name": "stdout",
     "output_type": "stream",
     "text": [
      "MSE: 5.558997017289492\n",
      "MAE: 1.686502382904216\n",
      "r2_score: 0.7260373532726067\n"
     ]
    }
   ],
   "source": [
    "print('MSE:',mean_squared_error(R_predict,y_test))\n",
    "print('MAE:',mean_absolute_error(R_predict,y_test))\n",
    "print('r2_score:',r2_score(R_predict,y_test))"
   ]
  },
  {
   "cell_type": "code",
   "execution_count": 55,
   "id": "2836bf89",
   "metadata": {},
   "outputs": [
    {
     "name": "stdout",
     "output_type": "stream",
     "text": [
      "0.9022731289447546\n"
     ]
    }
   ],
   "source": [
    "#SVR Regression\n",
    "#SVR(kernel='linear')\n",
    "\n",
    "svr=SVR(kernel='linear')\n",
    "svr.fit(x_train,y_train)\n",
    "print(svr.score(x_train,y_train))\n",
    "svr_predict=svr.predict(x_test)"
   ]
  },
  {
   "cell_type": "code",
   "execution_count": 56,
   "id": "da1e8e6d",
   "metadata": {},
   "outputs": [
    {
     "name": "stdout",
     "output_type": "stream",
     "text": [
      "MSE: 6.427839337819514\n",
      "MAE: 1.7248222663333233\n",
      "r2_score: 0.6227127014322855\n"
     ]
    }
   ],
   "source": [
    "print('MSE:',mean_squared_error(svr_predict,y_test))\n",
    "print('MAE:',mean_absolute_error(svr_predict,y_test))\n",
    "print('r2_score:',r2_score(svr_predict,y_test))"
   ]
  },
  {
   "cell_type": "code",
   "execution_count": 57,
   "id": "e5be7e3f",
   "metadata": {},
   "outputs": [
    {
     "name": "stdout",
     "output_type": "stream",
     "text": [
      "0.9287870676282131\n"
     ]
    }
   ],
   "source": [
    "#SVR(kernel='poly')\n",
    "svr_p=SVR(kernel='poly')\n",
    "svr_p.fit(x_train,y_train)\n",
    "print(svr_p.score(x_train,y_train))\n",
    "svrpred_p=svr_p.predict(x_test)"
   ]
  },
  {
   "cell_type": "code",
   "execution_count": 58,
   "id": "4040f510",
   "metadata": {},
   "outputs": [
    {
     "name": "stdout",
     "output_type": "stream",
     "text": [
      "MSE: 3.590884198588239\n",
      "MAE: 1.3035907167919714\n",
      "r2_score: 0.8606104342078341\n"
     ]
    }
   ],
   "source": [
    "print('MSE:',mean_squared_error(svrpred_p,y_test))\n",
    "print('MAE:',mean_absolute_error(svrpred_p,y_test))\n",
    "print('r2_score:',r2_score(svrpred_p,y_test))"
   ]
  },
  {
   "cell_type": "code",
   "execution_count": 59,
   "id": "c59a0aff",
   "metadata": {},
   "outputs": [
    {
     "name": "stdout",
     "output_type": "stream",
     "text": [
      "0.9050408270385731\n"
     ]
    }
   ],
   "source": [
    "#(kernel='rbf')\n",
    "svr_r=SVR(kernel='rbf')\n",
    "svr_r.fit(x_train,y_train)\n",
    "print(svr_r.score(x_train,y_train))\n",
    "svrpred_r=svr_r.predict(x_test)"
   ]
  },
  {
   "cell_type": "code",
   "execution_count": 60,
   "id": "edccdc26",
   "metadata": {},
   "outputs": [
    {
     "name": "stdout",
     "output_type": "stream",
     "text": [
      "MSE: 5.857182575629431\n",
      "MAE: 1.466963946739548\n",
      "r2_score: 0.5574454792495185\n"
     ]
    }
   ],
   "source": [
    "print('MSE:',mean_squared_error(svrpred_r,y_test))\n",
    "print('MAE:',mean_absolute_error(svrpred_r,y_test))\n",
    "print('r2_score:',r2_score(svrpred_r,y_test))"
   ]
  },
  {
   "cell_type": "code",
   "execution_count": 61,
   "id": "082ad64b",
   "metadata": {},
   "outputs": [
    {
     "name": "stdout",
     "output_type": "stream",
     "text": [
      "0.9968584433352197\n"
     ]
    }
   ],
   "source": [
    "#RandomForestRegressor\n",
    "\n",
    "RF=RandomForestRegressor()\n",
    "RF.fit(x_train,y_train)\n",
    "print(RF.score(x_train,y_train))\n",
    "RF_PRED=RF.predict(x_test)"
   ]
  },
  {
   "cell_type": "code",
   "execution_count": 62,
   "id": "5dba2225",
   "metadata": {},
   "outputs": [
    {
     "name": "stdout",
     "output_type": "stream",
     "text": [
      "MSE: 0.7234174259259253\n",
      "MAE: 0.5944629629629635\n",
      "r2_score: 0.9695814118120224\n"
     ]
    }
   ],
   "source": [
    "print('MSE:',mean_squared_error(RF_PRED,y_test))\n",
    "print('MAE:',mean_absolute_error(RF_PRED,y_test))\n",
    "print('r2_score:',r2_score(RF_PRED,y_test))"
   ]
  },
  {
   "cell_type": "code",
   "execution_count": 63,
   "id": "1bbd7ecf",
   "metadata": {},
   "outputs": [
    {
     "name": "stdout",
     "output_type": "stream",
     "text": [
      "1.0\n"
     ]
    }
   ],
   "source": [
    "#DecisionTreeRegressor\n",
    "\n",
    "DTR=DecisionTreeRegressor()\n",
    "DTR.fit(x_train,y_train)\n",
    "print(DTR.score(x_train,y_train))\n",
    "DTR_PRED=DTR.predict(x_test)"
   ]
  },
  {
   "cell_type": "code",
   "execution_count": 64,
   "id": "87eb087a",
   "metadata": {},
   "outputs": [
    {
     "name": "stdout",
     "output_type": "stream",
     "text": [
      "MSE: 1.6670370370370373\n",
      "MAE: 0.8703703703703703\n",
      "r2_score: 0.9326266431254181\n"
     ]
    }
   ],
   "source": [
    "print('MSE:',mean_squared_error(DTR_PRED,y_test))\n",
    "print('MAE:',mean_absolute_error(DTR_PRED,y_test))\n",
    "print('r2_score:',r2_score(DTR_PRED,y_test))"
   ]
  },
  {
   "cell_type": "code",
   "execution_count": 65,
   "id": "7464008e",
   "metadata": {},
   "outputs": [
    {
     "name": "stdout",
     "output_type": "stream",
     "text": [
      "0.999303725458487\n"
     ]
    }
   ],
   "source": [
    "#GradientBoostingRegressor\n",
    "\n",
    "GBR=GradientBoostingRegressor()\n",
    "GBR.fit(x_train,y_train)\n",
    "print(GBR.score(x_train,y_train))\n",
    "GBR_PRED=GBR.predict(x_test)"
   ]
  },
  {
   "cell_type": "code",
   "execution_count": 66,
   "id": "feefe085",
   "metadata": {},
   "outputs": [
    {
     "name": "stdout",
     "output_type": "stream",
     "text": [
      "MSE: 0.824922677904734\n",
      "MAE: 0.5925862531785943\n",
      "r2_score: 0.9667105540824006\n"
     ]
    }
   ],
   "source": [
    "print('MSE:',mean_squared_error(GBR_PRED,y_test))\n",
    "print('MAE:',mean_absolute_error(GBR_PRED,y_test))\n",
    "print('r2_score:',r2_score(GBR_PRED,y_test))"
   ]
  },
  {
   "cell_type": "code",
   "execution_count": 67,
   "id": "ddca5f5d",
   "metadata": {},
   "outputs": [
    {
     "name": "stdout",
     "output_type": "stream",
     "text": [
      "LR    : 3.132736, 1.804401\n",
      "R    : 3.187969, 1.909816\n",
      "svr    : 3.728657, 2.451061\n",
      "svr_p    : 3.084163, 1.338012\n",
      "svr_r    : 3.832606, 2.762439\n",
      "RF    : 0.602945, 0.164691\n",
      "DTR    : 1.430997, 0.565684\n",
      "GBR    : 0.546409, 0.265686\n"
     ]
    }
   ],
   "source": [
    "#Cross validation\n",
    "\n",
    "np.random.seed(10)\n",
    "def rmse_cv(model, x,y):\n",
    "    rmse =- (cross_val_score(model, x,y, scoring='neg_mean_squared_error', cv=10))\n",
    "    return(rmse)\n",
    "\n",
    "\n",
    "models = [LinearRegression(),\n",
    "             Ridge(),\n",
    "             SVR(kernel='linear'),\n",
    "             SVR(kernel='poly'),\n",
    "             SVR(kernel='rbf'),\n",
    "             RandomForestRegressor(),\n",
    "             DecisionTreeRegressor(),  \n",
    "             GradientBoostingRegressor(),]\n",
    "            \n",
    "\n",
    "\n",
    "names = ['LR','R','svr','svr_p','svr_r','RF','DTR','GBR']\n",
    "\n",
    "for model,name in zip(models,names):\n",
    "    score = rmse_cv(model,x,y)\n",
    "    print(\"{}    : {:.6f}, {:4f}\".format(name,score.mean(),score.std()))"
   ]
  },
  {
   "cell_type": "code",
   "execution_count": 68,
   "id": "4b6d3dc0",
   "metadata": {},
   "outputs": [],
   "source": [
    "#Selecting the RandomForestRegressor & GradientBoostingRegressoras for GridSeachCV"
   ]
  },
  {
   "cell_type": "code",
   "execution_count": 69,
   "id": "95bda106",
   "metadata": {},
   "outputs": [],
   "source": [
    "#HYPER PARAMETER TUNING: GridSearchCV"
   ]
  },
  {
   "cell_type": "code",
   "execution_count": 70,
   "id": "84277134",
   "metadata": {},
   "outputs": [],
   "source": [
    "#RandomForestRegressor\n",
    "\n",
    "RF=RandomForestRegressor()\n",
    "param={\n",
    "     'criterion':['mse','mae'],\n",
    "    'n_estimators':[100, 200],\n",
    "    'max_depth':[1],\n",
    "   'max_features' : [\"sqrt\", \"log2\",],\n",
    "}"
   ]
  },
  {
   "cell_type": "code",
   "execution_count": 71,
   "id": "0e9dc21c",
   "metadata": {},
   "outputs": [],
   "source": [
    "RF_grid=GridSearchCV(RandomForestRegressor(),param,cv=10,scoring='accuracy',n_jobs=-1,verbose=2)"
   ]
  },
  {
   "cell_type": "code",
   "execution_count": 72,
   "id": "b746bebc",
   "metadata": {},
   "outputs": [
    {
     "name": "stdout",
     "output_type": "stream",
     "text": [
      "Fitting 10 folds for each of 8 candidates, totalling 80 fits\n"
     ]
    }
   ],
   "source": [
    "RF_grid.fit(x_train,y_train)\n",
    "RF_grid_pred=RF_grid.best_estimator_.predict(x_test)"
   ]
  },
  {
   "cell_type": "code",
   "execution_count": 73,
   "id": "48ea57a3",
   "metadata": {},
   "outputs": [
    {
     "data": {
      "text/plain": [
       "{'criterion': 'mse',\n",
       " 'max_depth': 1,\n",
       " 'max_features': 'sqrt',\n",
       " 'n_estimators': 100}"
      ]
     },
     "execution_count": 73,
     "metadata": {},
     "output_type": "execute_result"
    }
   ],
   "source": [
    "RF_grid.best_params_"
   ]
  },
  {
   "cell_type": "code",
   "execution_count": 74,
   "id": "f8b06bbd",
   "metadata": {},
   "outputs": [
    {
     "name": "stdout",
     "output_type": "stream",
     "text": [
      "MSE: 17.111898248877452\n",
      "MAE: 3.1619522947008867\n",
      "r2_score: -4.113654975734652\n"
     ]
    }
   ],
   "source": [
    "print('MSE:',mean_squared_error(RF_grid_pred,y_test))\n",
    "print('MAE:',mean_absolute_error(RF_grid_pred,y_test))\n",
    "print('r2_score:',r2_score(RF_grid_pred,y_test))"
   ]
  },
  {
   "cell_type": "code",
   "execution_count": 75,
   "id": "88f18abe",
   "metadata": {},
   "outputs": [
    {
     "data": {
      "text/plain": [
       "<AxesSubplot:xlabel='sales', ylabel='Density'>"
      ]
     },
     "execution_count": 75,
     "metadata": {},
     "output_type": "execute_result"
    },
    {
     "data": {
      "image/png": "[encoded data removed]",
      "text/plain": [
       "<Figure size 432x288 with 1 Axes>"
      ]
     },
     "metadata": {
      "needs_background": "light"
     },
     "output_type": "display_data"
    }
   ],
   "source": [
    "sns.distplot(RF_grid_pred-y_test)"
   ]
  },
  {
   "cell_type": "code",
   "execution_count": 76,
   "id": "4a3fac43",
   "metadata": {},
   "outputs": [
    {
     "data": {
      "text/plain": [
       "[<matplotlib.lines.Line2D at 0x23e8d865c70>]"
      ]
     },
     "execution_count": 76,
     "metadata": {},
     "output_type": "execute_result"
    },
    {
     "data": {
      "image/png": "[encoded data removed]",
      "text/plain": [
       "<Figure size 432x288 with 1 Axes>"
      ]
     },
     "metadata": {
      "needs_background": "light"
     },
     "output_type": "display_data"
    }
   ],
   "source": [
    "plt.scatter(RF_grid_pred,y_test)\n",
    "plt.plot(y_test,y_test,linewidth=2,color='grey')"
   ]
  },
  {
   "cell_type": "code",
   "execution_count": 77,
   "id": "ead7838e",
   "metadata": {},
   "outputs": [],
   "source": [
    "#GradientBoostingRegressor\n",
    "\n",
    "GF=GradientBoostingRegressor()\n",
    "param={\n",
    "     'criterion':['mse','mae'],\n",
    "     'n_estimators':[100, 200],\n",
    "    }"
   ]
  },
  {
   "cell_type": "code",
   "execution_count": 78,
   "id": "48cbc995",
   "metadata": {},
   "outputs": [],
   "source": [
    "GF_grid=GridSearchCV(RandomForestRegressor(),param,cv=10,scoring='accuracy',n_jobs=-1,verbose=2)"
   ]
  },
  {
   "cell_type": "code",
   "execution_count": 79,
   "id": "e3ba59b7",
   "metadata": {},
   "outputs": [
    {
     "name": "stdout",
     "output_type": "stream",
     "text": [
      "Fitting 10 folds for each of 4 candidates, totalling 40 fits\n"
     ]
    }
   ],
   "source": [
    "GF_grid.fit(x_train,y_train)\n",
    "GF_grid_pred=GF_grid.best_estimator_.predict(x_test)"
   ]
  },
  {
   "cell_type": "code",
   "execution_count": 80,
   "id": "d0b5f067",
   "metadata": {},
   "outputs": [
    {
     "data": {
      "text/plain": [
       "{'criterion': 'mse',\n",
       " 'max_depth': 1,\n",
       " 'max_features': 'sqrt',\n",
       " 'n_estimators': 100}"
      ]
     },
     "execution_count": 80,
     "metadata": {},
     "output_type": "execute_result"
    }
   ],
   "source": [
    "RF_grid.best_params_"
   ]
  },
  {
   "cell_type": "code",
   "execution_count": 81,
   "id": "7a401c33",
   "metadata": {},
   "outputs": [
    {
     "name": "stdout",
     "output_type": "stream",
     "text": [
      "MSE: 0.7595865740740726\n",
      "MAE: 0.608166666666667\n",
      "r2_score: 0.9682841212464558\n"
     ]
    }
   ],
   "source": [
    "print('MSE:',mean_squared_error(GF_grid_pred,y_test))\n",
    "print('MAE:',mean_absolute_error(GF_grid_pred,y_test))\n",
    "print('r2_score:',r2_score(GF_grid_pred,y_test))"
   ]
  },
  {
   "cell_type": "code",
   "execution_count": 82,
   "id": "fdc55ad5",
   "metadata": {},
   "outputs": [
    {
     "data": {
      "text/plain": [
       "<AxesSubplot:xlabel='sales', ylabel='Density'>"
      ]
     },
     "execution_count": 82,
     "metadata": {},
     "output_type": "execute_result"
    },
    {
     "data": {
      "image/png": "[encoded data removed]",
      "text/plain": [
       "<Figure size 432x288 with 1 Axes>"
      ]
     },
     "metadata": {
      "needs_background": "light"
     },
     "output_type": "display_data"
    }
   ],
   "source": [
    "sns.distplot(GF_grid_pred-y_test)"
   ]
  },
  {
   "cell_type": "code",
   "execution_count": 83,
   "id": "17cd5b76",
   "metadata": {},
   "outputs": [
    {
     "data": {
      "text/plain": [
       "[<matplotlib.lines.Line2D at 0x23e8d8fda90>]"
      ]
     },
     "execution_count": 83,
     "metadata": {},
     "output_type": "execute_result"
    },
    {
     "data": {
      "image/png": "[encoded data removed]",
      "text/plain": [
       "<Figure size 432x288 with 1 Axes>"
      ]
     },
     "metadata": {
      "needs_background": "light"
     },
     "output_type": "display_data"
    }
   ],
   "source": [
    "plt.scatter(GF_grid_pred,y_test)\n",
    "plt.plot(y_test,y_test,linewidth=2,color='grey')"
   ]
  },
  {
   "cell_type": "code",
   "execution_count": 84,
   "id": "ed9e1d13",
   "metadata": {},
   "outputs": [],
   "source": [
    "#Choosing GradientBoostingRegressor as the best model"
   ]
  },
  {
   "cell_type": "code",
   "execution_count": 85,
   "id": "9e552212",
   "metadata": {},
   "outputs": [
    {
     "data": {
      "text/plain": [
       "['Advertising Sales Channel Prediction_Project.obj']"
      ]
     },
     "execution_count": 85,
     "metadata": {},
     "output_type": "execute_result"
    }
   ],
   "source": [
    "import joblib\n",
    "joblib.dump(RF_grid.best_estimator_,'Advertising Sales Channel Prediction_Project.obj')"
   ]
  },
  {
   "cell_type": "code",
   "execution_count": null,
   "id": "45223846",
   "metadata": {},
   "outputs": [],
   "source": []
  },
  {
   "cell_type": "code",
   "execution_count": null,
   "id": "a90af306",
   "metadata": {},
   "outputs": [],
   "source": []
  }
 ],
 "metadata": {
  "kernelspec": {
   "display_name": "Python 3 (ipykernel)",
   "language": "python",
   "name": "python3"
  },
  "language_info": {
   "codemirror_mode": {
    "name": "ipython",
    "version": 3
   },
   "file_extension": ".py",
   "mimetype": "text/x-python",
   "name": "python",
   "nbconvert_exporter": "python",
   "pygments_lexer": "ipython3",
   "version": "3.9.7"
  }
 },
 "nbformat": 4,
 "nbformat_minor": 5
}
